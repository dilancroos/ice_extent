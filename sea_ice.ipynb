{
 "cells": [
  {
   "cell_type": "markdown",
   "metadata": {},
   "source": [
    "# Part One : Arctic and Antarctic Ice Extent \n",
    "\n",
    "Analyzing the Ice Extent from 1979 to 2023 and plotting the  trend of ice extent over time. The Data is from 1978 - 2024,but we have removed 1978 and 2024 as there are only two months in 1978 and  one month in 2024 which makes it unsuitable for analysis.\n",
    "\n",
    "The below graphs is the goal to plot using the arctic and antarctic sea ice level, the data provided by NSIDC (National Snow and Ice Data Center) which is a part of the University of Colorado Boulder.\n",
    "\n",
    "We are interested in the columns: \"Year\", \"Month\", \"Day\", \"Extent\". The column \"Extent\" has values in million square kilometers.\n"
   ]
  },
  {
   "cell_type": "markdown",
   "metadata": {},
   "source": [
    "<img src=\"img.jpg\" alt=\"Sea Ice Index\" width=\"600\" height=\"400\">"
   ]
  },
  {
   "cell_type": "markdown",
   "metadata": {},
   "source": [
    "# Data Transformation \n",
    "<ol>\n",
    "<li>  Dropping the Source Data column\n",
    " <li> Dropping the first row (YYYY, MM, DD, 10^6 sq km\t10^6 sq km, \tSource data product web sites: http://nsidc.o...)  as it is not necessary for our analysis.\n",
    "<li> Converting Year to a numerical data type (int)\n",
    "<li> Group the DataFrame by the 'year' column.\n",
    "<li> Calculate the mean of the 'Extent' column for each year.\n",
    "<li> Reset the DataFrame index, Set the 'year' column as the new index.\n",
    "<li> Changing the \"Year\", \"Month\", \"Day\" into date and time format\n",
    "</ol>\n",
    "\n",
    "### Link\n",
    "\n",
    "Arctic = https://noaadata.apps.nsidc.org/NOAA/G02135/north/daily/data/N_seaice_extent_daily_v3.0.csv\n",
    "\n",
    "\n",
    "Antarctic = https://noaadata.apps.nsidc.org/NOAA/G02135/south/daily/data/S_seaice_extent_daily_v3.0.csv\n",
    "\n",
    "\n",
    "# Team members:\n",
    "<ul>\n",
    "<li> Sayed Mossavi \n",
    "<li> Dilan Croos\n",
    "<li> Ranjani A V</ul>"
   ]
  },
  {
   "cell_type": "code",
   "execution_count": 1,
   "metadata": {},
   "outputs": [
    {
     "ename": "ModuleNotFoundError",
     "evalue": "No module named 'pandas'",
     "output_type": "error",
     "traceback": [
      "\u001b[1;31m---------------------------------------------------------------------------\u001b[0m",
      "\u001b[1;31mModuleNotFoundError\u001b[0m                       Traceback (most recent call last)",
      "Cell \u001b[1;32mIn[1], line 2\u001b[0m\n\u001b[0;32m      1\u001b[0m \u001b[38;5;66;03m# Importing libraries \u001b[39;00m\n\u001b[1;32m----> 2\u001b[0m \u001b[38;5;28;01mimport\u001b[39;00m \u001b[38;5;21;01mpandas\u001b[39;00m \u001b[38;5;28;01mas\u001b[39;00m \u001b[38;5;21;01mpd\u001b[39;00m\n\u001b[0;32m      3\u001b[0m \u001b[38;5;28;01mimport\u001b[39;00m \u001b[38;5;21;01mnumpy\u001b[39;00m \u001b[38;5;28;01mas\u001b[39;00m \u001b[38;5;21;01mnp\u001b[39;00m\n\u001b[0;32m      4\u001b[0m \u001b[38;5;28;01mimport\u001b[39;00m \u001b[38;5;21;01mmatplotlib\u001b[39;00m\u001b[38;5;21;01m.\u001b[39;00m\u001b[38;5;21;01mpyplot\u001b[39;00m \u001b[38;5;28;01mas\u001b[39;00m \u001b[38;5;21;01mplt\u001b[39;00m\n",
      "\u001b[1;31mModuleNotFoundError\u001b[0m: No module named 'pandas'"
     ]
    }
   ],
   "source": [
    "# Importing libraries \n",
    "import pandas as pd\n",
    "import numpy as np\n",
    "import matplotlib.pyplot as plt\n",
    "\n",
    "import watermark\n",
    "import requests\n",
    "import pathlib\n",
    "import zipfile"
   ]
  },
  {
   "cell_type": "markdown",
   "metadata": {},
   "source": [
    "### Loading the Arctic data"
   ]
  },
  {
   "cell_type": "code",
   "execution_count": null,
   "metadata": {},
   "outputs": [],
   "source": [
    "# if the data is not available, download it\n",
    "# if Datasets directory is not available, create it\n",
    "pathlib.Path(\"Datasets\").mkdir(exist_ok=True)\n",
    "\n",
    "# check the files in the Datasets directory\n",
    "path = pathlib.Path(\"Datasets\")\n",
    "files = [file.name for file in path.iterdir()]\n",
    "if \"N_seaice_extent_daily_v3.0.csv\" in files:\n",
    "    print(\"The data is available\")\n",
    "else:\n",
    "\n",
    "    # read the data\n",
    "    url = \"https://noaadata.apps.nsidc.org/NOAA/G02135/north/daily/data/N_seaice_extent_daily_v3.0.csv\"\n",
    "    r = requests.get(url)\n",
    "    with open(\"Datasets/N_seaice_extent_daily_v3.0.csv\", \"wb\") as f:\n",
    "        f.write(r.content)\n"
   ]
  },
  {
   "cell_type": "markdown",
   "metadata": {},
   "source": [
    "### Reading the data in csv format "
   ]
  },
  {
   "cell_type": "code",
   "execution_count": null,
   "metadata": {},
   "outputs": [],
   "source": [
    "# Display the data\n",
    "n_seaice = pd.read_csv('Datasets/N_seaice_extent_daily_v3.0.csv', header=0)\n",
    "n_seaice.head(10)"
   ]
  },
  {
   "cell_type": "markdown",
   "metadata": {},
   "source": [
    "### Exploring the data \n",
    "\n"
   ]
  },
  {
   "cell_type": "code",
   "execution_count": null,
   "metadata": {},
   "outputs": [],
   "source": [
    "# Columns name \n",
    "n_seaice.columns"
   ]
  },
  {
   "cell_type": "markdown",
   "metadata": {},
   "source": [
    "### Dropping the [' Source Data'], and the first Row of the data"
   ]
  },
  {
   "cell_type": "code",
   "execution_count": null,
   "metadata": {},
   "outputs": [],
   "source": [
    "# Dropping the Source Data colunm\n",
    "n_seaice_clean =(n_seaice\n",
    "                 .drop([' Source Data'], axis=1)\n",
    "                 .drop([0], axis=0)\n",
    "                 )\n",
    "n_seaice_clean.head()"
   ]
  },
  {
   "cell_type": "code",
   "execution_count": null,
   "metadata": {},
   "outputs": [],
   "source": [
    "# Explor the data shape\n",
    "n_seaice_clean.shape"
   ]
  },
  {
   "cell_type": "code",
   "execution_count": null,
   "metadata": {},
   "outputs": [],
   "source": [
    "# Basic information about the data set\n",
    "n_seaice_clean.info()"
   ]
  },
  {
   "cell_type": "markdown",
   "metadata": {},
   "source": [
    "### Converting the interested columns into integer format, since all the cols are in object format."
   ]
  },
  {
   "cell_type": "code",
   "execution_count": null,
   "metadata": {},
   "outputs": [],
   "source": [
    "# Change the Year, Month, Day, Missing and Extent columns to integers\n",
    "n_seaice_clean['Year'] = n_seaice_clean['Year'].astype(int)\n",
    "n_seaice_clean['Month'] = n_seaice_clean[' Month'].astype(int)\n",
    "n_seaice_clean['Day'] = n_seaice_clean[' Day'].astype(int)\n",
    "n_seaice_clean['Extent'] = n_seaice_clean['     Extent'].astype(float)\n",
    "n_seaice_clean['Missing'] = n_seaice_clean['    Missing'].astype(float)\n",
    "n_seaice_clean =(n_seaice_clean\n",
    "                 .drop([' Month'], axis=1)\n",
    "                 .drop([' Day'], axis=1)\n",
    "                 .drop(['     Extent'], axis=1)\n",
    "                 .drop(['    Missing'], axis=1)\n",
    "                 )\n",
    "n_seaice_clean['Date'] = pd.to_datetime(n_seaice_clean[['Year', 'Month', 'Day']])\n",
    "n_seaice_clean.head()"
   ]
  },
  {
   "cell_type": "code",
   "execution_count": null,
   "metadata": {},
   "outputs": [],
   "source": [
    "# Basic information about the data afer converting the Year colunm to float and dropping unnecessary cols\n",
    "n_seaice_clean.info()"
   ]
  },
  {
   "cell_type": "code",
   "execution_count": null,
   "metadata": {},
   "outputs": [],
   "source": [
    "# Data Describtion \n",
    "n_seaice_clean.describe()"
   ]
  },
  {
   "cell_type": "markdown",
   "metadata": {},
   "source": [
    "### Grouping  data by Year and get the mean"
   ]
  },
  {
   "cell_type": "code",
   "execution_count": null,
   "metadata": {},
   "outputs": [],
   "source": [
    "# Groupby year the data, and get the mean\n",
    "n_seaice_grouped = n_seaice_clean.groupby(['Year']).mean()\n",
    "n_seaice_grouped.head()"
   ]
  },
  {
   "cell_type": "markdown",
   "metadata": {},
   "source": [
    "### Getting the min and max year "
   ]
  },
  {
   "cell_type": "code",
   "execution_count": null,
   "metadata": {},
   "outputs": [],
   "source": [
    "# Min & Max year \n",
    "yearMin = n_seaice_grouped.index.min()\n",
    "yearMax = n_seaice_grouped.index.max()\n",
    "print(yearMin)\n",
    "print(yearMax)"
   ]
  },
  {
   "cell_type": "markdown",
   "metadata": {},
   "source": [
    "### Dropping the min and max  (1978 & 2024), and the reason is explained in the beginning of the notebook."
   ]
  },
  {
   "cell_type": "code",
   "execution_count": null,
   "metadata": {},
   "outputs": [],
   "source": [
    "# remove the first year and the last year\n",
    "n_seaice_grouped = n_seaice_grouped.drop([yearMin, yearMax])"
   ]
  },
  {
   "cell_type": "markdown",
   "metadata": {},
   "source": [
    "### Plotting the arctic  sea ice extent"
   ]
  },
  {
   "cell_type": "code",
   "execution_count": null,
   "metadata": {},
   "outputs": [],
   "source": [
    "# plot the data\n",
    "plt.style.use('seaborn-v0_8')\n",
    "plt.figure(figsize=(10, 6))\n",
    "plt.plot(n_seaice_grouped['Extent'], label='Arctic Ics Extent')\n",
    "plt.xlabel('Year')\n",
    "plt.ylabel('Ice Extent')\n",
    "plt.title('Arctic Sea Ice Extent', fontsize=20)\n",
    "plt.legend()\n",
    "plt.show()\n"
   ]
  },
  {
   "cell_type": "markdown",
   "metadata": {},
   "source": [
    "### Adding a regression line"
   ]
  },
  {
   "cell_type": "code",
   "execution_count": null,
   "metadata": {},
   "outputs": [],
   "source": [
    "# Add regression line\n",
    "# plot the data\n",
    "plt.style.use('seaborn-v0_8')\n",
    "plt.figure(figsize=(10, 6))\n",
    "plt.plot(n_seaice_grouped['Extent'], label='Arctic Ics Extent', color='black')\n",
    "plt.xlabel('Year')\n",
    "plt.ylabel('Ice Extent')\n",
    "plt.title('Arctic Sea Ice Extent', fontsize=20)\n",
    "plt.legend()\n",
    "\n",
    "# Add regression line\n",
    "z = np.polyfit(n_seaice_grouped.index, n_seaice_grouped['Extent'], 1)\n",
    "p = np.poly1d(z)\n",
    "plt.plot(n_seaice_grouped.index, p(n_seaice_grouped.index), \"r-\")\n",
    "plt.show()\n"
   ]
  },
  {
   "cell_type": "markdown",
   "metadata": {},
   "source": [
    "### Loading the Antarctic data"
   ]
  },
  {
   "cell_type": "code",
   "execution_count": null,
   "metadata": {},
   "outputs": [],
   "source": [
    "# if the data is not available, download it\n",
    "\n",
    "# check the files in the Datasets directory\n",
    "path = pathlib.Path(\"Datasets\")\n",
    "files = [file.name for file in path.iterdir()]\n",
    "if \"S_seaice_extent_daily_v3.0.csv\" in files:\n",
    "    print(\"The data is available\")\n",
    "else:\n",
    "    # read the data\n",
    "    url = \"https://noaadata.apps.nsidc.org/NOAA/G02135/south/daily/data/S_seaice_extent_daily_v3.0.csv\"\n",
    "    r = requests.get(url)\n",
    "    with open(\"Datasets/S_seaice_extent_daily_v3.0.csv\", \"wb\") as f:\n",
    "        f.write(r.content)\n",
    "\n"
   ]
  },
  {
   "cell_type": "markdown",
   "metadata": {},
   "source": [
    "### Reading the data in csv format"
   ]
  },
  {
   "cell_type": "code",
   "execution_count": null,
   "metadata": {},
   "outputs": [],
   "source": [
    "s_seaice = pd.read_csv ('Datasets/S_seaice_extent_daily_v3.0.csv', header=0)\n",
    "\n",
    "s_seaice.head()"
   ]
  },
  {
   "cell_type": "markdown",
   "metadata": {},
   "source": [
    "### Exploring the data"
   ]
  },
  {
   "cell_type": "code",
   "execution_count": null,
   "metadata": {},
   "outputs": [],
   "source": [
    "# Name of the columns\n",
    "s_seaice.columns"
   ]
  },
  {
   "cell_type": "markdown",
   "metadata": {},
   "source": [
    "### Dropping the column [' Source Data'], and the first Row of the data"
   ]
  },
  {
   "cell_type": "code",
   "execution_count": null,
   "metadata": {},
   "outputs": [],
   "source": [
    "# Dropping the cloumn (Soure Data)\n",
    "s_seaice_clean = (s_seaice\n",
    "                  .drop([' Source Data'], axis =1)\n",
    "                  .drop([0], axis=0))\n",
    "s_seaice_clean.head()"
   ]
  },
  {
   "cell_type": "code",
   "execution_count": null,
   "metadata": {},
   "outputs": [],
   "source": [
    "# Shape of the data\n",
    "s_seaice_clean.shape"
   ]
  },
  {
   "cell_type": "code",
   "execution_count": null,
   "metadata": {},
   "outputs": [],
   "source": [
    "# Types of the data \n",
    "s_seaice_clean.dtypes"
   ]
  },
  {
   "cell_type": "markdown",
   "metadata": {},
   "source": [
    "### Converting the interested columns into integer format, since all the cols are in object format."
   ]
  },
  {
   "cell_type": "code",
   "execution_count": null,
   "metadata": {},
   "outputs": [],
   "source": [
    "# Change the Year, Month and Day columns to integers\n",
    "s_seaice_clean['Year'] = s_seaice_clean['Year'].astype(int)\n",
    "s_seaice_clean['Month'] = s_seaice_clean[' Month'].astype(int)\n",
    "s_seaice_clean['Day'] = s_seaice_clean[' Day'].astype(int)\n",
    "s_seaice_clean['Extent'] = s_seaice_clean['     Extent'].astype(float)\n",
    "s_seaice_clean['Missing'] = s_seaice_clean['    Missing'].astype(float)\n",
    "s_seaice_clean =(s_seaice_clean\n",
    "                 .drop([' Month'], axis=1)\n",
    "                 .drop([' Day'], axis=1)\n",
    "                 .drop(['     Extent'], axis=1)\n",
    "                 .drop(['    Missing'], axis=1))\n",
    "s_seaice_clean['Date'] = pd.to_datetime(s_seaice_clean[['Year', 'Month', 'Day']])\n",
    "s_seaice_clean.head()"
   ]
  },
  {
   "cell_type": "markdown",
   "metadata": {},
   "source": [
    "### Grouping  data by Year and get the mean"
   ]
  },
  {
   "cell_type": "code",
   "execution_count": null,
   "metadata": {},
   "outputs": [],
   "source": [
    "s_seaice_grouped = s_seaice_clean.groupby(['Year']).mean()\n",
    "s_seaice_grouped.tail() "
   ]
  },
  {
   "cell_type": "markdown",
   "metadata": {},
   "source": [
    "### Getting the min and max year "
   ]
  },
  {
   "cell_type": "code",
   "execution_count": null,
   "metadata": {},
   "outputs": [],
   "source": [
    "yearMin = s_seaice_grouped.index.min()\n",
    "yearMax = s_seaice_grouped.index.max()\n",
    "print(yearMin)\n",
    "print(yearMax)"
   ]
  },
  {
   "cell_type": "markdown",
   "metadata": {},
   "source": [
    "### Dropping the min and max  (1978 & 2024), and the reason is explained in the beginning of the notebook."
   ]
  },
  {
   "cell_type": "code",
   "execution_count": null,
   "metadata": {},
   "outputs": [],
   "source": [
    "# remove 1978 and 2024\n",
    "s_seaice_grouped = s_seaice_grouped.drop([yearMin, yearMax])"
   ]
  },
  {
   "cell_type": "code",
   "execution_count": null,
   "metadata": {},
   "outputs": [],
   "source": [
    "s_seaice_grouped.tail()"
   ]
  },
  {
   "cell_type": "markdown",
   "metadata": {},
   "source": [
    "### Plotting the arctic  sea ice extent"
   ]
  },
  {
   "cell_type": "code",
   "execution_count": null,
   "metadata": {},
   "outputs": [],
   "source": [
    "# plot the rolling mean of the sea ice extent\n",
    "\n",
    "# plot the data\n",
    "plt.style.use('seaborn-v0_8')\n",
    "plt.figure(figsize=(10,6))\n",
    "plt.plot(s_seaice_grouped['Extent'], label='Antarctic Ics Extent')\n",
    "plt.xlabel('Year')\n",
    "plt.ylabel('Ice Extent')\n",
    "plt.title('Antarctic Sea Ice Extent', fontsize=20)\n",
    "plt.legend()\n",
    "plt.show()"
   ]
  },
  {
   "cell_type": "markdown",
   "metadata": {},
   "source": [
    "### Adding a regression line"
   ]
  },
  {
   "cell_type": "code",
   "execution_count": null,
   "metadata": {},
   "outputs": [],
   "source": [
    "# Add regression line\n",
    "# plot the data\n",
    "plt.style.use('seaborn-v0_8')\n",
    "plt.figure(figsize=(10, 6))\n",
    "plt.plot(s_seaice_grouped['Extent'], label='Antarctic Ics Extent', color='black')\n",
    "plt.xlabel('Year')\n",
    "plt.ylabel('Ice Extent')\n",
    "plt.title('Antarctic Sea Ice Extent', fontsize=20)\n",
    "plt.legend()\n",
    "\n",
    "# Add regression line\n",
    "z = np.polyfit(s_seaice_grouped.index, s_seaice_grouped['Extent'], 1)\n",
    "p = np.poly1d(z)\n",
    "plt.plot(s_seaice_grouped.index, p(s_seaice_grouped.index), \"r-\")\n",
    "plt.show()\n"
   ]
  },
  {
   "cell_type": "markdown",
   "metadata": {},
   "source": [
    "### Plotting together the Arctic & Antarctic sea ice extent "
   ]
  },
  {
   "cell_type": "code",
   "execution_count": null,
   "metadata": {},
   "outputs": [],
   "source": [
    "# plot the arctic and antarctic ice extent in one plot\n",
    "\n",
    "# plot the data\n",
    "plt.style.use('seaborn-v0_8')\n",
    "plt.figure(figsize=(10,6))\n",
    "plt.plot(s_seaice_grouped['Extent'], label='Antarctic Ics Extent')\n",
    "plt.plot(n_seaice_grouped['Extent'], label='Arctic Ics Extent')\n",
    "plt.xlabel('Year')\n",
    "plt.ylabel('Ice Extent')\n",
    "plt.title('Sea Ice Extent', fontsize=20)\n",
    "plt.legend()\n",
    "plt.show()\n"
   ]
  },
  {
   "cell_type": "markdown",
   "metadata": {},
   "source": [
    "### Plotting together the Arctic & Antarctic sea ice extent, and adding the regression line"
   ]
  },
  {
   "cell_type": "code",
   "execution_count": null,
   "metadata": {},
   "outputs": [],
   "source": [
    "# Fit a linear regression line for Antarctic ice extent\n",
    "x_antarctic = np.arange(len(s_seaice_grouped['Extent']))\n",
    "y_antarctic = s_seaice_grouped['Extent']\n",
    "coefficients_antarctic = np.polyfit(x_antarctic, y_antarctic, 1)\n",
    "poly_line_antarctic = np.poly1d(coefficients_antarctic)\n",
    "\n",
    "# Fit a linear regression line for Arctic ice extent\n",
    "x_arctic = np.arange(len(n_seaice_grouped['Extent']))\n",
    "y_arctic = n_seaice_grouped['Extent']\n",
    "coefficients_arctic = np.polyfit(x_arctic, y_arctic, 1)\n",
    "poly_line_arctic = np.poly1d(coefficients_arctic)\n",
    "\n",
    "# Assuming you have already calculated y_antarctic and y_arctic\n",
    "# Plotting\n",
    "plt.style.use('seaborn-v0_8')\n",
    "plt.figure(figsize=(10,6))\n",
    "\n",
    "# Plot Antarctic sea ice extent and regression line\n",
    "plt.plot(s_seaice_grouped.index, y_antarctic, label='Antarctic Ice Extent')\n",
    "plt.plot(s_seaice_grouped.index, poly_line_antarctic(x_antarctic), label='Antarctic Regression Line', color='blue', linestyle='--')\n",
    "\n",
    "# Plot Arctic sea ice extent and regression line\n",
    "plt.plot(n_seaice_grouped.index, y_arctic, label='Arctic Ice Extent')\n",
    "plt.plot(n_seaice_grouped.index, poly_line_arctic(x_arctic), label='Arctic Regression Line', color='orange', linestyle='--')\n",
    "\n",
    "plt.xlabel('Year')\n",
    "plt.ylabel('Ice Extent')\n",
    "plt.title('Sea Ice Extent', fontsize=20)\n",
    "plt.legend()\n",
    "plt.show()"
   ]
  },
  {
   "cell_type": "markdown",
   "metadata": {},
   "source": [
    "### Part Two: Global Mean Sea Level\n",
    "\n",
    "The data for GMSL is from two sources:\n",
    "1. US Environmental Protection Agency, from 1880-2014. The data is monthly, instead of daily. It is recorded on the 15th of every month. The columns are: \"Time\", \"GMSL\".\n",
    "\n",
    "2. European Environment Agency, from 1993-2022. The data obtained is daily. The columns are: \"Year\", \"GSML\".\n",
    "\n",
    "We intend to observe the change in sea level over the years and evaluate the consistency of the the two data sets."
   ]
  },
  {
   "cell_type": "code",
   "execution_count": null,
   "metadata": {},
   "outputs": [],
   "source": [
    "# check the files in the Datasets directory\n",
    "path = pathlib.Path(\"Datasets\")\n",
    "files = [file.name for file in path.iterdir()]\n",
    "if \"sea-level-rise_zip.zip\" in files:\n",
    "    print(\"The data is available\")\n",
    "\n",
    "else:\n",
    "    # read the data\n",
    "    url = \"https://datahub.io/core/sea-level-rise/r/sea-level-rise_zip.zip\"\n",
    "    r = requests.get(url)\n",
    "    with open(\"Datasets/sea-level-rise_zip.zip\", \"wb\") as f:\n",
    "        f.write(r.content)\n",
    "\n",
    "    # unzip the file\n",
    "    with zipfile.ZipFile(\"Datasets/sea-level-rise_zip.zip\", 'r') as zip_ref:\n",
    "        zip_ref.extractall(\"Datasets/sea-level-rise\")\n",
    "\n"
   ]
  },
  {
   "cell_type": "markdown",
   "metadata": {},
   "source": [
    "### Reading the data in csv format"
   ]
  },
  {
   "cell_type": "code",
   "execution_count": null,
   "metadata": {},
   "outputs": [],
   "source": [
    "# read the sea level data\n",
    "\n",
    "sea_level = pd.read_csv('Datasets/sea-level-rise/data/csiro_alt_gmsl_mo_2015_csv.csv', header=0)\n",
    "sea_level.head()"
   ]
  },
  {
   "cell_type": "code",
   "execution_count": null,
   "metadata": {},
   "outputs": [],
   "source": [
    "sea_level.info()"
   ]
  },
  {
   "cell_type": "markdown",
   "metadata": {},
   "source": [
    "### Converting the time column (Year)  to a date format"
   ]
  },
  {
   "cell_type": "code",
   "execution_count": null,
   "metadata": {},
   "outputs": [],
   "source": [
    "# convert the time column to datetime\n",
    "\n",
    "sea_level['Time'] = pd.to_datetime(sea_level['Time'])\n",
    "sea_level.head()"
   ]
  },
  {
   "cell_type": "code",
   "execution_count": null,
   "metadata": {},
   "outputs": [],
   "source": [
    "sea_level.describe()"
   ]
  },
  {
   "cell_type": "markdown",
   "metadata": {},
   "source": [
    "### Grouping the data by Time (Year) and getting the mean"
   ]
  },
  {
   "cell_type": "code",
   "execution_count": null,
   "metadata": {},
   "outputs": [],
   "source": [
    "# group by year and get the mean\n",
    "\n",
    "sea_level_grouped = sea_level.groupby(sea_level['Time'].dt.year).mean()\n",
    "sea_level_grouped.head()"
   ]
  },
  {
   "cell_type": "code",
   "execution_count": null,
   "metadata": {},
   "outputs": [],
   "source": [
    "sea_level_grouped['GMSL in cm'] = sea_level_grouped['GMSL'].apply(lambda x: x/10)\n",
    "sea_level_grouped.head()"
   ]
  },
  {
   "cell_type": "markdown",
   "metadata": {},
   "source": [
    "### Plotting the Global Mean Sea Level  (GMSL)"
   ]
  },
  {
   "cell_type": "code",
   "execution_count": null,
   "metadata": {},
   "outputs": [],
   "source": [
    "# plot the data\n",
    "\n",
    "plt.style.use('seaborn-v0_8')\n",
    "plt.figure(figsize=(10,6))\n",
    "plt.plot(sea_level_grouped['GMSL'], label='Sea Level Rise (mm)')\n",
    "plt.xlabel('Year')\n",
    "plt.ylabel('Sea Level Rise (mm)')\n",
    "plt.title('Global Mean Sea Level', fontsize=20)\n",
    "plt.legend()\n",
    "plt.show()\n"
   ]
  },
  {
   "cell_type": "code",
   "execution_count": null,
   "metadata": {},
   "outputs": [],
   "source": [
    "# Plot the Arctic and Antarctic ice extent and the global mean sea level in one plot\n",
    "\n",
    "# plot the data\n",
    "plt.style.use('seaborn-v0_8')\n",
    "plt.figure(figsize=(10,6))\n",
    "plt.plot(s_seaice_grouped['Extent'], label='Antarctic Ics Extent')\n",
    "plt.plot(n_seaice_grouped['Extent'], label='Arctic Ics Extent')\n",
    "# plt.plot(sea_level_grouped['GMSL in cm'], label='Sea Level Rise (cm)')\n",
    "plt.xlabel('Year')\n",
    "plt.ylabel('Extent / Sea Level Rise (mm)')\n",
    "plt.title('Sea Ice Extent and Sea Level Rise', fontsize=20)\n",
    "plt.legend()\n",
    "plt.show()\n"
   ]
  },
  {
   "cell_type": "markdown",
   "metadata": {},
   "source": [
    "### EU"
   ]
  },
  {
   "cell_type": "code",
   "execution_count": null,
   "metadata": {},
   "outputs": [],
   "source": [
    "# check the files in the Datasets directory\n",
    "path = pathlib.Path(\"Datasets\")\n",
    "files = [file.name for file in path.iterdir()]\n",
    "if \"Data-package.zip\" in files:\n",
    "    print(\"The data is available\")\n",
    "\n",
    "else:\n",
    "    # read the data\n",
    "    url = \"https://www.eea.europa.eu/data-and-maps/figures/observed-change-in-global-mean-3/data-package.zip/at_download/file\"\n",
    "    r = requests.get(url)\n",
    "    with open(\"Datasets/Data-package.zip\", \"wb\") as f:\n",
    "        f.write(r.content)\n",
    "\n",
    "    # unzip the file\n",
    "    with zipfile.ZipFile(\"Datasets/Data-package.zip\", 'r') as zip_ref:\n",
    "        zip_ref.extractall(\"Datasets/sea-level-rise/Data-package\")\n",
    "\n"
   ]
  },
  {
   "cell_type": "code",
   "execution_count": null,
   "metadata": {},
   "outputs": [
    {
     "data": {
      "text/html": [
       "<div>\n",
       "<style scoped>\n",
       "    .dataframe tbody tr th:only-of-type {\n",
       "        vertical-align: middle;\n",
       "    }\n",
       "\n",
       "    .dataframe tbody tr th {\n",
       "        vertical-align: top;\n",
       "    }\n",
       "\n",
       "    .dataframe thead th {\n",
       "        text-align: right;\n",
       "    }\n",
       "</style>\n",
       "<table border=\"1\" class=\"dataframe\">\n",
       "  <thead>\n",
       "    <tr style=\"text-align: right;\">\n",
       "      <th></th>\n",
       "      <th>Year</th>\n",
       "      <th>Global mean sea level (ensemble, Palmer et al., 2021)</th>\n",
       "      <th>Global mean sea level (satellite altimeter, CMEMS)</th>\n",
       "    </tr>\n",
       "  </thead>\n",
       "  <tbody>\n",
       "    <tr>\n",
       "      <th>0</th>\n",
       "      <td>1900</td>\n",
       "      <td>-148.467482</td>\n",
       "      <td>NaN</td>\n",
       "    </tr>\n",
       "    <tr>\n",
       "      <th>1</th>\n",
       "      <td>1901</td>\n",
       "      <td>-146.753115</td>\n",
       "      <td>NaN</td>\n",
       "    </tr>\n",
       "    <tr>\n",
       "      <th>2</th>\n",
       "      <td>1902</td>\n",
       "      <td>-148.321435</td>\n",
       "      <td>NaN</td>\n",
       "    </tr>\n",
       "    <tr>\n",
       "      <th>3</th>\n",
       "      <td>1903</td>\n",
       "      <td>-142.164056</td>\n",
       "      <td>NaN</td>\n",
       "    </tr>\n",
       "    <tr>\n",
       "      <th>4</th>\n",
       "      <td>1904</td>\n",
       "      <td>-144.403691</td>\n",
       "      <td>NaN</td>\n",
       "    </tr>\n",
       "  </tbody>\n",
       "</table>\n",
       "</div>"
      ],
      "text/plain": [
       "   Year  Global mean sea level (ensemble, Palmer et al., 2021)  \\\n",
       "0  1900                                        -148.467482       \n",
       "1  1901                                        -146.753115       \n",
       "2  1902                                        -148.321435       \n",
       "3  1903                                        -142.164056       \n",
       "4  1904                                        -144.403691       \n",
       "\n",
       "   Global mean sea level (satellite altimeter, CMEMS)   \n",
       "0                                                NaN    \n",
       "1                                                NaN    \n",
       "2                                                NaN    \n",
       "3                                                NaN    \n",
       "4                                                NaN    "
      ]
     },
     "execution_count": 50,
     "metadata": {},
     "output_type": "execute_result"
    }
   ],
   "source": [
    "# read the sea level data from FIG1a_259008_CLIM012-v4-Data.xlsx file and get the data from the Original Data 3 tab\n",
    "\n",
    "sea_level_eea = pd.read_excel('Datasets/sea-level-rise/Data-package/FIG1a_259008_CLIM012-v4-Data.xlsx', sheet_name='Original Data 3', header=0)\n",
    "sea_level_eea.head()"
   ]
  },
  {
   "cell_type": "code",
   "execution_count": null,
   "metadata": {},
   "outputs": [
    {
     "data": {
      "text/html": [
       "<div>\n",
       "<style scoped>\n",
       "    .dataframe tbody tr th:only-of-type {\n",
       "        vertical-align: middle;\n",
       "    }\n",
       "\n",
       "    .dataframe tbody tr th {\n",
       "        vertical-align: top;\n",
       "    }\n",
       "\n",
       "    .dataframe thead th {\n",
       "        text-align: right;\n",
       "    }\n",
       "</style>\n",
       "<table border=\"1\" class=\"dataframe\">\n",
       "  <thead>\n",
       "    <tr style=\"text-align: right;\">\n",
       "      <th></th>\n",
       "      <th>Year</th>\n",
       "      <th>Global mean sea level (ensemble, Palmer et al., 2021)</th>\n",
       "      <th>Global mean sea level (satellite altimeter, CMEMS)</th>\n",
       "    </tr>\n",
       "  </thead>\n",
       "  <tbody>\n",
       "    <tr>\n",
       "      <th>118</th>\n",
       "      <td>2018</td>\n",
       "      <td>NaN</td>\n",
       "      <td>5.690186e+01</td>\n",
       "    </tr>\n",
       "    <tr>\n",
       "      <th>119</th>\n",
       "      <td>2019</td>\n",
       "      <td>NaN</td>\n",
       "      <td>6.320915e+01</td>\n",
       "    </tr>\n",
       "    <tr>\n",
       "      <th>120</th>\n",
       "      <td>2020</td>\n",
       "      <td>NaN</td>\n",
       "      <td>6.628079e+01</td>\n",
       "    </tr>\n",
       "    <tr>\n",
       "      <th>121</th>\n",
       "      <td>2021</td>\n",
       "      <td>NaN</td>\n",
       "      <td>7.093695e+01</td>\n",
       "    </tr>\n",
       "    <tr>\n",
       "      <th>122</th>\n",
       "      <td>2022</td>\n",
       "      <td>NaN</td>\n",
       "      <td>7.355689e+01</td>\n",
       "    </tr>\n",
       "    <tr>\n",
       "      <th>123</th>\n",
       "      <td>NaN</td>\n",
       "      <td>NaN</td>\n",
       "      <td>NaN</td>\n",
       "    </tr>\n",
       "    <tr>\n",
       "      <th>124</th>\n",
       "      <td>Average \\n(1993-2010)</td>\n",
       "      <td>0.000000</td>\n",
       "      <td>3.947460e-15</td>\n",
       "    </tr>\n",
       "    <tr>\n",
       "      <th>125</th>\n",
       "      <td>Linear trend \\n(1993-2010)</td>\n",
       "      <td>2.997947</td>\n",
       "      <td>2.699543e+00</td>\n",
       "    </tr>\n",
       "    <tr>\n",
       "      <th>126</th>\n",
       "      <td>Linear trend \\n(whole time series)</td>\n",
       "      <td>1.494230</td>\n",
       "      <td>3.322905e+00</td>\n",
       "    </tr>\n",
       "    <tr>\n",
       "      <th>127</th>\n",
       "      <td>Change \\n(whole time series)</td>\n",
       "      <td>NaN</td>\n",
       "      <td>NaN</td>\n",
       "    </tr>\n",
       "  </tbody>\n",
       "</table>\n",
       "</div>"
      ],
      "text/plain": [
       "                                   Year  \\\n",
       "118                                2018   \n",
       "119                                2019   \n",
       "120                                2020   \n",
       "121                                2021   \n",
       "122                                2022   \n",
       "123                                 NaN   \n",
       "124               Average \\n(1993-2010)   \n",
       "125          Linear trend \\n(1993-2010)   \n",
       "126  Linear trend \\n(whole time series)   \n",
       "127        Change \\n(whole time series)   \n",
       "\n",
       "     Global mean sea level (ensemble, Palmer et al., 2021)  \\\n",
       "118                                                NaN       \n",
       "119                                                NaN       \n",
       "120                                                NaN       \n",
       "121                                                NaN       \n",
       "122                                                NaN       \n",
       "123                                                NaN       \n",
       "124                                           0.000000       \n",
       "125                                           2.997947       \n",
       "126                                           1.494230       \n",
       "127                                                NaN       \n",
       "\n",
       "     Global mean sea level (satellite altimeter, CMEMS)   \n",
       "118                                       5.690186e+01    \n",
       "119                                       6.320915e+01    \n",
       "120                                       6.628079e+01    \n",
       "121                                       7.093695e+01    \n",
       "122                                       7.355689e+01    \n",
       "123                                                NaN    \n",
       "124                                       3.947460e-15    \n",
       "125                                       2.699543e+00    \n",
       "126                                       3.322905e+00    \n",
       "127                                                NaN    "
      ]
     },
     "execution_count": 51,
     "metadata": {},
     "output_type": "execute_result"
    }
   ],
   "source": [
    "sea_level_eea.tail(10)"
   ]
  },
  {
   "cell_type": "code",
   "execution_count": null,
   "metadata": {},
   "outputs": [
    {
     "data": {
      "text/html": [
       "<div>\n",
       "<style scoped>\n",
       "    .dataframe tbody tr th:only-of-type {\n",
       "        vertical-align: middle;\n",
       "    }\n",
       "\n",
       "    .dataframe tbody tr th {\n",
       "        vertical-align: top;\n",
       "    }\n",
       "\n",
       "    .dataframe thead th {\n",
       "        text-align: right;\n",
       "    }\n",
       "</style>\n",
       "<table border=\"1\" class=\"dataframe\">\n",
       "  <thead>\n",
       "    <tr style=\"text-align: right;\">\n",
       "      <th></th>\n",
       "      <th>Year</th>\n",
       "      <th>Global mean sea level (ensemble, Palmer et al., 2021)</th>\n",
       "      <th>Global mean sea level (satellite altimeter, CMEMS)</th>\n",
       "    </tr>\n",
       "  </thead>\n",
       "  <tbody>\n",
       "    <tr>\n",
       "      <th>113</th>\n",
       "      <td>2013</td>\n",
       "      <td>NaN</td>\n",
       "      <td>35.798526</td>\n",
       "    </tr>\n",
       "    <tr>\n",
       "      <th>114</th>\n",
       "      <td>2014</td>\n",
       "      <td>NaN</td>\n",
       "      <td>38.610678</td>\n",
       "    </tr>\n",
       "    <tr>\n",
       "      <th>115</th>\n",
       "      <td>2015</td>\n",
       "      <td>NaN</td>\n",
       "      <td>48.033565</td>\n",
       "    </tr>\n",
       "    <tr>\n",
       "      <th>116</th>\n",
       "      <td>2016</td>\n",
       "      <td>NaN</td>\n",
       "      <td>51.807641</td>\n",
       "    </tr>\n",
       "    <tr>\n",
       "      <th>117</th>\n",
       "      <td>2017</td>\n",
       "      <td>NaN</td>\n",
       "      <td>53.106594</td>\n",
       "    </tr>\n",
       "    <tr>\n",
       "      <th>118</th>\n",
       "      <td>2018</td>\n",
       "      <td>NaN</td>\n",
       "      <td>56.901858</td>\n",
       "    </tr>\n",
       "    <tr>\n",
       "      <th>119</th>\n",
       "      <td>2019</td>\n",
       "      <td>NaN</td>\n",
       "      <td>63.209152</td>\n",
       "    </tr>\n",
       "    <tr>\n",
       "      <th>120</th>\n",
       "      <td>2020</td>\n",
       "      <td>NaN</td>\n",
       "      <td>66.280787</td>\n",
       "    </tr>\n",
       "    <tr>\n",
       "      <th>121</th>\n",
       "      <td>2021</td>\n",
       "      <td>NaN</td>\n",
       "      <td>70.936955</td>\n",
       "    </tr>\n",
       "    <tr>\n",
       "      <th>122</th>\n",
       "      <td>2022</td>\n",
       "      <td>NaN</td>\n",
       "      <td>73.556886</td>\n",
       "    </tr>\n",
       "  </tbody>\n",
       "</table>\n",
       "</div>"
      ],
      "text/plain": [
       "     Year  Global mean sea level (ensemble, Palmer et al., 2021)  \\\n",
       "113  2013                                                NaN       \n",
       "114  2014                                                NaN       \n",
       "115  2015                                                NaN       \n",
       "116  2016                                                NaN       \n",
       "117  2017                                                NaN       \n",
       "118  2018                                                NaN       \n",
       "119  2019                                                NaN       \n",
       "120  2020                                                NaN       \n",
       "121  2021                                                NaN       \n",
       "122  2022                                                NaN       \n",
       "\n",
       "     Global mean sea level (satellite altimeter, CMEMS)   \n",
       "113                                          35.798526    \n",
       "114                                          38.610678    \n",
       "115                                          48.033565    \n",
       "116                                          51.807641    \n",
       "117                                          53.106594    \n",
       "118                                          56.901858    \n",
       "119                                          63.209152    \n",
       "120                                          66.280787    \n",
       "121                                          70.936955    \n",
       "122                                          73.556886    "
      ]
     },
     "execution_count": 52,
     "metadata": {},
     "output_type": "execute_result"
    }
   ],
   "source": [
    "# remove last 5 rows\n",
    "\n",
    "sea_level_eea = sea_level_eea.iloc[:-5]\n",
    "sea_level_eea.tail(10)"
   ]
  },
  {
   "cell_type": "code",
   "execution_count": null,
   "metadata": {},
   "outputs": [
    {
     "data": {
      "text/plain": [
       "Index(['Year', 'Global mean sea level (ensemble, Palmer et al., 2021)',\n",
       "       'Global mean sea level (satellite altimeter, CMEMS) '],\n",
       "      dtype='object')"
      ]
     },
     "execution_count": 56,
     "metadata": {},
     "output_type": "execute_result"
    }
   ],
   "source": [
    "sea_level_eea.columns"
   ]
  },
  {
   "cell_type": "code",
   "execution_count": null,
   "metadata": {},
   "outputs": [
    {
     "data": {
      "image/png": "[encoded data removed]",
      "text/plain": [
       "<Figure size 1000x600 with 1 Axes>"
      ]
     },
     "metadata": {},
     "output_type": "display_data"
    }
   ],
   "source": [
    "# plot the data\n",
    "\n",
    "plt.style.use('seaborn-v0_8')\n",
    "plt.figure(figsize=(10,6))\n",
    "plt.plot(sea_level_eea['Year'], sea_level_eea['Global mean sea level (ensemble, Palmer et al., 2021)'], label='Sea Level Rise (mm)')\n",
    "plt.plot(sea_level_eea['Year'], sea_level_eea['Global mean sea level (satellite altimeter, CMEMS) '], label='Sea Level Rise (mm)', color='red')\n",
    "plt.xlabel('Year')\n",
    "plt.ylabel('Sea Level Rise (mm)')\n",
    "plt.title('Global Mean Sea Level', fontsize=20)\n",
    "plt.legend()\n",
    "plt.show()"
   ]
  },
  {
   "cell_type": "code",
   "execution_count": null,
   "metadata": {},
   "outputs": [
    {
     "data": {
      "image/png": "[encoded data removed]",
      "text/plain": [
       "<Figure size 1000x600 with 1 Axes>"
      ]
     },
     "metadata": {},
     "output_type": "display_data"
    }
   ],
   "source": [
    "# plot Us sea level rise and EU sea level rise in one plot\n",
    "\n",
    "# plot the data\n",
    "plt.style.use('seaborn-v0_8')\n",
    "plt.figure(figsize=(10,6))\n",
    "plt.plot(sea_level_eea['Year'], sea_level_eea['Global mean sea level (ensemble, Palmer et al., 2021)'], label='Sea Level Rise EU (mm)')\n",
    "plt.plot(sea_level_eea['Year'], sea_level_eea['Global mean sea level (satellite altimeter, CMEMS) '], label='Sea Level Rise (mm)', color='red')\n",
    "plt.plot(sea_level_grouped.index, sea_level_grouped['GMSL'], label='Sea Level Rise US (mm)', color='green')\n",
    "plt.xlabel('Year')\n",
    "plt.ylabel('Sea Level Rise (mm)')\n",
    "plt.title('Global Mean Sea Level', fontsize=20)\n",
    "plt.legend()\n",
    "plt.show()"
   ]
  }
 ],
 "metadata": {
  "kernelspec": {
   "display_name": "Python 3",
   "language": "python",
   "name": "python3"
  },
  "language_info": {
   "codemirror_mode": {
    "name": "ipython",
    "version": 3
   },
   "file_extension": ".py",
   "mimetype": "text/x-python",
   "name": "python",
   "nbconvert_exporter": "python",
   "pygments_lexer": "ipython3",
   "version": "3.12.0"
  }
 },
 "nbformat": 4,
 "nbformat_minor": 2
}
