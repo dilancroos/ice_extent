{
   "cells": [
      {
         "cell_type": "markdown",
         "metadata": {},
         "source": [
            "[![Contributors][contributors-shield]][contributors-url]\n",
            "[![Forks][forks-shield]][forks-url]\n",
            "[![Stargazers][stars-shield]][stars-url]\n",
            "[![Issues][issues-shield]][issues-url]\n",
            "\n",
            "<!-- PROJECT LOGO -->\n",
            "<br />\n",
            "<div align=\"center\">\n",
            "  <h2 align=\"center\">Arctic and Antartic ICE Extent - Group D</h2>\n",
            "  <h3 align=\"center\">Data Visualisation for Data Science for Climate Change</h3>\n",
            "  <h5 align=\"center\">Université Paris Cité - M2 - Digital Science (AIRE)</h5>\n",
            "\n",
            "  <p align=\"center\">\n",
            "  Ranjani A V<br/>\n",
            "  Sayed Mossavi<br/>\n",
            "  Dilan Croos\n",
            "    <br />\n",
            "    <a href=\"https://github.com/dilancroos/ice_extent\"><strong>Explore the docs »</strong></a>\n",
            "    <br />\n",
            "    <br />\n",
            "    ·\n",
            "    <a href=\"https://github.com/dilancroos/ice_extent/issues\">Report Bug in GitHub</a>\n",
            "    ·\n",
            "    <a href=\"https://github.com/dilancroos/ice_extent/issues\">Request Feature in GitHub</a>\n",
            "  </p>\n",
            "</div>\n",
            "\n",
            "<!-- Markdowncode -->\n",
            "\n",
            "[contributors-shield]: https://img.shields.io/github/contributors/dilancroos/ice_extent.svg?style=for-the-badge\n",
            "[contributors-url]: https://github.com/dilancroos/ice_extent/graphs/contributors\n",
            "[forks-shield]: https://img.shields.io/github/forks/dilancroos/ice_extent.svg?style=for-the-badge\n",
            "[forks-url]: https://github.com/dilancroos/ice_extent/network/members\n",
            "[stars-shield]: https://img.shields.io/github/stars/dilancroos/ice_extent.svg?style=for-the-badge\n",
            "[stars-url]: https://github.com/dilancroos/ice_extent/stargazers\n",
            "[issues-shield]: https://img.shields.io/github/issues/dilancroos/ice_extent.svg?style=for-the-badge\n",
            "[issues-url]: https://github.com/dilancroos/ice_extent/issues"
         ]
      },
      {
         "cell_type": "markdown",
         "metadata": {},
         "source": [
            "# Part One : Arctic and Antarctic Ice Extent \n",
            "\n",
            "Analyzing the Ice Extent from 1979 to 2023 and plotting the  trend of ice extent over time. The Data is from 1978 - 2024,but we have removed 1978 and 2024 as there are only two months in 1978 and  one month in 2024 which makes it unsuitable for analysis.\n",
            "\n",
            "The goal is to plot the below graphs by NSIDC (National Snow and Ice Data Center) using the arctic and antarctic sea ice level. The data was available at NSIDC (National Snow and Ice Data Center) which is a part of the University of Colorado Boulder.\n",
            "\n",
            "<center><img src=\"img.jpg\" alt=\"Sea Ice Index\" width=\"600\" height=\"400\"></center>\n",
            "\n",
            "The data was in CSV (Comma Seperate Value) format and consisted of the following columns:\n",
            "\n",
            "|Year|Month|Day|Extent|Missing|Source Data|\n",
            "|---|---|---|---|---|---|\n",
            "|YYYY|MM|DD|10^6 sq km|10^6 sq km|Source data product web sites|\n",
            "\n",
            "We are interested in the columns: \n",
            "|Year|Month|Day|Extent|\n",
            "|---|---|---|---|\n",
            "|YYYY|MM|DD|10^6 sq km|10^6 sq km|\n",
            "\n",
            "The column \"Extent\" has values in million square kilometers.\n"
         ]
      },
      {
         "cell_type": "markdown",
         "metadata": {},
         "source": [
            "# Data Transformation \n",
            "<ol>\n",
            "<li>  Dropping the Source Data column\n",
            " <li> Dropping the first row (YYYY, MM, DD, 10^6 sq km\t10^6 sq km, \tSource data product web sites: http://nsidc.o...)  as it is not necessary for our analysis.\n",
            "<li> Converting Year to a numerical data type (int)\n",
            "<li> Group the DataFrame by the 'year' column.\n",
            "<li> Calculate the mean of the 'Extent' column for each year.\n",
            "<li> Reset the DataFrame index, Set the 'year' column as the new index.\n",
            "<li> Changing the \"Year\", \"Month\", \"Day\" into date and time format\n",
            "</ol>\n",
            "\n",
            "### Link\n",
            "\n",
            "Arctic = https://noaadata.apps.nsidc.org/NOAA/G02135/north/daily/data/N_seaice_extent_daily_v3.0.csv\n",
            "\n",
            "\n",
            "Antarctic = https://noaadata.apps.nsidc.org/NOAA/G02135/south/daily/data/S_seaice_extent_daily_v3.0.csv"
         ]
      },
      {
         "cell_type": "code",
         "execution_count": 1,
         "metadata": {},
         "outputs": [],
         "source": [
            "# Importing libraries \n",
            "import pandas as pd\n",
            "import numpy as np\n",
            "import matplotlib.pyplot as plt\n",
            "\n",
            "import watermark\n",
            "import requests\n",
            "import pathlib\n",
            "import zipfile"
         ]
      },
      {
         "cell_type": "markdown",
         "metadata": {},
         "source": [
            "### Loading the Arctic data"
         ]
      },
      {
         "cell_type": "code",
         "execution_count": 2,
         "metadata": {},
         "outputs": [],
         "source": [
            "# if the data is not available, download it\n",
            "# if Datasets directory is not available, create it\n",
            "pathlib.Path(\"Datasets\").mkdir(exist_ok=True)\n",
            "\n",
            "# check the files in the Datasets directory\n",
            "path = pathlib.Path(\"Datasets\")\n",
            "files = [file.name for file in path.iterdir()]\n",
            "if \"N_seaice_extent_daily_v3.0.csv\" in files:\n",
            "    print(\"The data is available\")\n",
            "else:\n",
            "\n",
            "    # read the data\n",
            "    url = \"https://noaadata.apps.nsidc.org/NOAA/G02135/north/daily/data/N_seaice_extent_daily_v3.0.csv\"\n",
            "    r = requests.get(url)\n",
            "    with open(\"Datasets/N_seaice_extent_daily_v3.0.csv\", \"wb\") as f:\n",
            "        f.write(r.content)\n"
         ]
      },
      {
         "cell_type": "markdown",
         "metadata": {},
         "source": [
            "### Reading the data in csv format "
         ]
      },
      {
         "cell_type": "code",
         "execution_count": 3,
         "metadata": {},
         "outputs": [
            {
               "data": {
                  "text/html": [
                     "<div>\n",
                     "<style scoped>\n",
                     "    .dataframe tbody tr th:only-of-type {\n",
                     "        vertical-align: middle;\n",
                     "    }\n",
                     "\n",
                     "    .dataframe tbody tr th {\n",
                     "        vertical-align: top;\n",
                     "    }\n",
                     "\n",
                     "    .dataframe thead th {\n",
                     "        text-align: right;\n",
                     "    }\n",
                     "</style>\n",
                     "<table border=\"1\" class=\"dataframe\">\n",
                     "  <thead>\n",
                     "    <tr style=\"text-align: right;\">\n",
                     "      <th></th>\n",
                     "      <th>Year</th>\n",
                     "      <th>Month</th>\n",
                     "      <th>Day</th>\n",
                     "      <th>Extent</th>\n",
                     "      <th>Missing</th>\n",
                     "      <th>Source Data</th>\n",
                     "    </tr>\n",
                     "  </thead>\n",
                     "  <tbody>\n",
                     "    <tr>\n",
                     "      <th>0</th>\n",
                     "      <td>YYYY</td>\n",
                     "      <td>MM</td>\n",
                     "      <td>DD</td>\n",
                     "      <td>10^6 sq km</td>\n",
                     "      <td>10^6 sq km</td>\n",
                     "      <td>Source data product web sites: http://nsidc.o...</td>\n",
                     "    </tr>\n",
                     "    <tr>\n",
                     "      <th>1</th>\n",
                     "      <td>1978</td>\n",
                     "      <td>10</td>\n",
                     "      <td>26</td>\n",
                     "      <td>10.231</td>\n",
                     "      <td>0.000</td>\n",
                     "      <td>['/ecs/DP1/PM/NSIDC-0051.001/1978.10.26/nt_19...</td>\n",
                     "    </tr>\n",
                     "    <tr>\n",
                     "      <th>2</th>\n",
                     "      <td>1978</td>\n",
                     "      <td>10</td>\n",
                     "      <td>28</td>\n",
                     "      <td>10.420</td>\n",
                     "      <td>0.000</td>\n",
                     "      <td>['/ecs/DP1/PM/NSIDC-0051.001/1978.10.28/nt_19...</td>\n",
                     "    </tr>\n",
                     "    <tr>\n",
                     "      <th>3</th>\n",
                     "      <td>1978</td>\n",
                     "      <td>10</td>\n",
                     "      <td>30</td>\n",
                     "      <td>10.557</td>\n",
                     "      <td>0.000</td>\n",
                     "      <td>['/ecs/DP1/PM/NSIDC-0051.001/1978.10.30/nt_19...</td>\n",
                     "    </tr>\n",
                     "    <tr>\n",
                     "      <th>4</th>\n",
                     "      <td>1978</td>\n",
                     "      <td>11</td>\n",
                     "      <td>01</td>\n",
                     "      <td>10.670</td>\n",
                     "      <td>0.000</td>\n",
                     "      <td>['/ecs/DP1/PM/NSIDC-0051.001/1978.11.01/nt_19...</td>\n",
                     "    </tr>\n",
                     "    <tr>\n",
                     "      <th>5</th>\n",
                     "      <td>1978</td>\n",
                     "      <td>11</td>\n",
                     "      <td>03</td>\n",
                     "      <td>10.777</td>\n",
                     "      <td>0.000</td>\n",
                     "      <td>['/ecs/DP1/PM/NSIDC-0051.001/1978.11.03/nt_19...</td>\n",
                     "    </tr>\n",
                     "    <tr>\n",
                     "      <th>6</th>\n",
                     "      <td>1978</td>\n",
                     "      <td>11</td>\n",
                     "      <td>05</td>\n",
                     "      <td>10.968</td>\n",
                     "      <td>0.000</td>\n",
                     "      <td>['/ecs/DP1/PM/NSIDC-0051.001/1978.11.05/nt_19...</td>\n",
                     "    </tr>\n",
                     "    <tr>\n",
                     "      <th>7</th>\n",
                     "      <td>1978</td>\n",
                     "      <td>11</td>\n",
                     "      <td>07</td>\n",
                     "      <td>11.080</td>\n",
                     "      <td>0.000</td>\n",
                     "      <td>['/ecs/DP1/PM/NSIDC-0051.001/1978.11.07/nt_19...</td>\n",
                     "    </tr>\n",
                     "    <tr>\n",
                     "      <th>8</th>\n",
                     "      <td>1978</td>\n",
                     "      <td>11</td>\n",
                     "      <td>09</td>\n",
                     "      <td>11.189</td>\n",
                     "      <td>0.000</td>\n",
                     "      <td>['/ecs/DP1/PM/NSIDC-0051.001/1978.11.09/nt_19...</td>\n",
                     "    </tr>\n",
                     "    <tr>\n",
                     "      <th>9</th>\n",
                     "      <td>1978</td>\n",
                     "      <td>11</td>\n",
                     "      <td>11</td>\n",
                     "      <td>11.314</td>\n",
                     "      <td>0.000</td>\n",
                     "      <td>['/ecs/DP1/PM/NSIDC-0051.001/1978.11.11/nt_19...</td>\n",
                     "    </tr>\n",
                     "  </tbody>\n",
                     "</table>\n",
                     "</div>"
                  ],
                  "text/plain": [
                     "   Year   Month   Day       Extent      Missing  \\\n",
                     "0  YYYY      MM    DD   10^6 sq km   10^6 sq km   \n",
                     "1  1978      10    26       10.231        0.000   \n",
                     "2  1978      10    28       10.420        0.000   \n",
                     "3  1978      10    30       10.557        0.000   \n",
                     "4  1978      11    01       10.670        0.000   \n",
                     "5  1978      11    03       10.777        0.000   \n",
                     "6  1978      11    05       10.968        0.000   \n",
                     "7  1978      11    07       11.080        0.000   \n",
                     "8  1978      11    09       11.189        0.000   \n",
                     "9  1978      11    11       11.314        0.000   \n",
                     "\n",
                     "                                         Source Data  \n",
                     "0   Source data product web sites: http://nsidc.o...  \n",
                     "1   ['/ecs/DP1/PM/NSIDC-0051.001/1978.10.26/nt_19...  \n",
                     "2   ['/ecs/DP1/PM/NSIDC-0051.001/1978.10.28/nt_19...  \n",
                     "3   ['/ecs/DP1/PM/NSIDC-0051.001/1978.10.30/nt_19...  \n",
                     "4   ['/ecs/DP1/PM/NSIDC-0051.001/1978.11.01/nt_19...  \n",
                     "5   ['/ecs/DP1/PM/NSIDC-0051.001/1978.11.03/nt_19...  \n",
                     "6   ['/ecs/DP1/PM/NSIDC-0051.001/1978.11.05/nt_19...  \n",
                     "7   ['/ecs/DP1/PM/NSIDC-0051.001/1978.11.07/nt_19...  \n",
                     "8   ['/ecs/DP1/PM/NSIDC-0051.001/1978.11.09/nt_19...  \n",
                     "9   ['/ecs/DP1/PM/NSIDC-0051.001/1978.11.11/nt_19...  "
                  ]
               },
               "execution_count": 3,
               "metadata": {},
               "output_type": "execute_result"
            }
         ],
         "source": [
            "# Display the data\n",
            "n_seaice = pd.read_csv('Datasets/N_seaice_extent_daily_v3.0.csv', header=0)\n",
            "n_seaice.head(10)"
         ]
      },
      {
         "cell_type": "markdown",
         "metadata": {},
         "source": [
            "### Exploring the data \n",
            "\n"
         ]
      },
      {
         "cell_type": "code",
         "execution_count": 4,
         "metadata": {},
         "outputs": [
            {
               "data": {
                  "text/plain": [
                     "Index(['Year', ' Month', ' Day', '     Extent', '    Missing', ' Source Data'], dtype='object')"
                  ]
               },
               "execution_count": 4,
               "metadata": {},
               "output_type": "execute_result"
            }
         ],
         "source": [
            "# Columns name \n",
            "n_seaice.columns"
         ]
      },
      {
         "cell_type": "markdown",
         "metadata": {},
         "source": [
            "### Dropping the [' Source Data'], and the first Row of the data"
         ]
      },
      {
         "cell_type": "code",
         "execution_count": 5,
         "metadata": {},
         "outputs": [
            {
               "data": {
                  "text/html": [
                     "<div>\n",
                     "<style scoped>\n",
                     "    .dataframe tbody tr th:only-of-type {\n",
                     "        vertical-align: middle;\n",
                     "    }\n",
                     "\n",
                     "    .dataframe tbody tr th {\n",
                     "        vertical-align: top;\n",
                     "    }\n",
                     "\n",
                     "    .dataframe thead th {\n",
                     "        text-align: right;\n",
                     "    }\n",
                     "</style>\n",
                     "<table border=\"1\" class=\"dataframe\">\n",
                     "  <thead>\n",
                     "    <tr style=\"text-align: right;\">\n",
                     "      <th></th>\n",
                     "      <th>Year</th>\n",
                     "      <th>Month</th>\n",
                     "      <th>Day</th>\n",
                     "      <th>Extent</th>\n",
                     "      <th>Missing</th>\n",
                     "    </tr>\n",
                     "  </thead>\n",
                     "  <tbody>\n",
                     "    <tr>\n",
                     "      <th>1</th>\n",
                     "      <td>1978</td>\n",
                     "      <td>10</td>\n",
                     "      <td>26</td>\n",
                     "      <td>10.231</td>\n",
                     "      <td>0.000</td>\n",
                     "    </tr>\n",
                     "    <tr>\n",
                     "      <th>2</th>\n",
                     "      <td>1978</td>\n",
                     "      <td>10</td>\n",
                     "      <td>28</td>\n",
                     "      <td>10.420</td>\n",
                     "      <td>0.000</td>\n",
                     "    </tr>\n",
                     "    <tr>\n",
                     "      <th>3</th>\n",
                     "      <td>1978</td>\n",
                     "      <td>10</td>\n",
                     "      <td>30</td>\n",
                     "      <td>10.557</td>\n",
                     "      <td>0.000</td>\n",
                     "    </tr>\n",
                     "    <tr>\n",
                     "      <th>4</th>\n",
                     "      <td>1978</td>\n",
                     "      <td>11</td>\n",
                     "      <td>01</td>\n",
                     "      <td>10.670</td>\n",
                     "      <td>0.000</td>\n",
                     "    </tr>\n",
                     "    <tr>\n",
                     "      <th>5</th>\n",
                     "      <td>1978</td>\n",
                     "      <td>11</td>\n",
                     "      <td>03</td>\n",
                     "      <td>10.777</td>\n",
                     "      <td>0.000</td>\n",
                     "    </tr>\n",
                     "  </tbody>\n",
                     "</table>\n",
                     "</div>"
                  ],
                  "text/plain": [
                     "   Year   Month   Day       Extent      Missing\n",
                     "1  1978      10    26       10.231        0.000\n",
                     "2  1978      10    28       10.420        0.000\n",
                     "3  1978      10    30       10.557        0.000\n",
                     "4  1978      11    01       10.670        0.000\n",
                     "5  1978      11    03       10.777        0.000"
                  ]
               },
               "execution_count": 5,
               "metadata": {},
               "output_type": "execute_result"
            }
         ],
         "source": [
            "# Dropping the Source Data colunm\n",
            "n_seaice_clean =(n_seaice\n",
            "                 .drop([' Source Data'], axis=1)\n",
            "                 .drop([0], axis=0)\n",
            "                 )\n",
            "n_seaice_clean.head()"
         ]
      },
      {
         "cell_type": "code",
         "execution_count": 6,
         "metadata": {},
         "outputs": [
            {
               "data": {
                  "text/plain": [
                     "(14905, 5)"
                  ]
               },
               "execution_count": 6,
               "metadata": {},
               "output_type": "execute_result"
            }
         ],
         "source": [
            "# Explor the data shape\n",
            "n_seaice_clean.shape"
         ]
      },
      {
         "cell_type": "code",
         "execution_count": 7,
         "metadata": {},
         "outputs": [],
         "source": [
            "# Basic information about the data set\n",
            "n_seaice_clean.info()"
         ]
      },
      {
         "cell_type": "markdown",
         "metadata": {},
         "source": [
            "### Converting the interested columns into integer format, since all the cols are in object format."
         ]
      },
      {
         "cell_type": "code",
         "execution_count": 8,
         "metadata": {},
         "outputs": [
            {
               "data": {
                  "text/html": [
                     "<div>\n",
                     "<style scoped>\n",
                     "    .dataframe tbody tr th:only-of-type {\n",
                     "        vertical-align: middle;\n",
                     "    }\n",
                     "\n",
                     "    .dataframe tbody tr th {\n",
                     "        vertical-align: top;\n",
                     "    }\n",
                     "\n",
                     "    .dataframe thead th {\n",
                     "        text-align: right;\n",
                     "    }\n",
                     "</style>\n",
                     "<table border=\"1\" class=\"dataframe\">\n",
                     "  <thead>\n",
                     "    <tr style=\"text-align: right;\">\n",
                     "      <th></th>\n",
                     "      <th>Year</th>\n",
                     "      <th>Month</th>\n",
                     "      <th>Day</th>\n",
                     "      <th>Extent</th>\n",
                     "      <th>Missing</th>\n",
                     "      <th>Date</th>\n",
                     "    </tr>\n",
                     "  </thead>\n",
                     "  <tbody>\n",
                     "    <tr>\n",
                     "      <th>1</th>\n",
                     "      <td>1978</td>\n",
                     "      <td>10</td>\n",
                     "      <td>26</td>\n",
                     "      <td>10.231</td>\n",
                     "      <td>0.0</td>\n",
                     "      <td>1978-10-26</td>\n",
                     "    </tr>\n",
                     "    <tr>\n",
                     "      <th>2</th>\n",
                     "      <td>1978</td>\n",
                     "      <td>10</td>\n",
                     "      <td>28</td>\n",
                     "      <td>10.420</td>\n",
                     "      <td>0.0</td>\n",
                     "      <td>1978-10-28</td>\n",
                     "    </tr>\n",
                     "    <tr>\n",
                     "      <th>3</th>\n",
                     "      <td>1978</td>\n",
                     "      <td>10</td>\n",
                     "      <td>30</td>\n",
                     "      <td>10.557</td>\n",
                     "      <td>0.0</td>\n",
                     "      <td>1978-10-30</td>\n",
                     "    </tr>\n",
                     "    <tr>\n",
                     "      <th>4</th>\n",
                     "      <td>1978</td>\n",
                     "      <td>11</td>\n",
                     "      <td>1</td>\n",
                     "      <td>10.670</td>\n",
                     "      <td>0.0</td>\n",
                     "      <td>1978-11-01</td>\n",
                     "    </tr>\n",
                     "    <tr>\n",
                     "      <th>5</th>\n",
                     "      <td>1978</td>\n",
                     "      <td>11</td>\n",
                     "      <td>3</td>\n",
                     "      <td>10.777</td>\n",
                     "      <td>0.0</td>\n",
                     "      <td>1978-11-03</td>\n",
                     "    </tr>\n",
                     "  </tbody>\n",
                     "</table>\n",
                     "</div>"
                  ],
                  "text/plain": [
                     "   Year  Month  Day  Extent  Missing       Date\n",
                     "1  1978     10   26  10.231      0.0 1978-10-26\n",
                     "2  1978     10   28  10.420      0.0 1978-10-28\n",
                     "3  1978     10   30  10.557      0.0 1978-10-30\n",
                     "4  1978     11    1  10.670      0.0 1978-11-01\n",
                     "5  1978     11    3  10.777      0.0 1978-11-03"
                  ]
               },
               "execution_count": 8,
               "metadata": {},
               "output_type": "execute_result"
            }
         ],
         "source": [
            "# Change the Year, Month, Day, Missing and Extent columns to integers\n",
            "n_seaice_clean['Year'] = n_seaice_clean['Year'].astype(int)\n",
            "n_seaice_clean['Month'] = n_seaice_clean[' Month'].astype(int)\n",
            "n_seaice_clean['Day'] = n_seaice_clean[' Day'].astype(int)\n",
            "n_seaice_clean['Extent'] = n_seaice_clean['     Extent'].astype(float)\n",
            "n_seaice_clean['Missing'] = n_seaice_clean['    Missing'].astype(float)\n",
            "n_seaice_clean =(n_seaice_clean\n",
            "                 .drop([' Month'], axis=1)\n",
            "                 .drop([' Day'], axis=1)\n",
            "                 .drop(['     Extent'], axis=1)\n",
            "                 .drop(['    Missing'], axis=1)\n",
            "                 )\n",
            "n_seaice_clean['Date'] = pd.to_datetime(n_seaice_clean[['Year', 'Month', 'Day']])\n",
            "n_seaice_clean.head()"
         ]
      },
      {
         "cell_type": "code",
         "execution_count": 9,
         "metadata": {},
         "outputs": [],
         "source": [
            "# Basic information about the data afer converting the Year colunm to float and dropping unnecessary cols\n",
            "n_seaice_clean.info()"
         ]
      },
      {
         "cell_type": "code",
         "execution_count": 10,
         "metadata": {},
         "outputs": [
            {
               "data": {
                  "text/html": [
                     "<div>\n",
                     "<style scoped>\n",
                     "    .dataframe tbody tr th:only-of-type {\n",
                     "        vertical-align: middle;\n",
                     "    }\n",
                     "\n",
                     "    .dataframe tbody tr th {\n",
                     "        vertical-align: top;\n",
                     "    }\n",
                     "\n",
                     "    .dataframe thead th {\n",
                     "        text-align: right;\n",
                     "    }\n",
                     "</style>\n",
                     "<table border=\"1\" class=\"dataframe\">\n",
                     "  <thead>\n",
                     "    <tr style=\"text-align: right;\">\n",
                     "      <th></th>\n",
                     "      <th>Year</th>\n",
                     "      <th>Month</th>\n",
                     "      <th>Day</th>\n",
                     "      <th>Extent</th>\n",
                     "      <th>Missing</th>\n",
                     "      <th>Date</th>\n",
                     "    </tr>\n",
                     "  </thead>\n",
                     "  <tbody>\n",
                     "    <tr>\n",
                     "      <th>count</th>\n",
                     "      <td>14905.000000</td>\n",
                     "      <td>14905.000000</td>\n",
                     "      <td>14905.000000</td>\n",
                     "      <td>14905.000000</td>\n",
                     "      <td>14905.0</td>\n",
                     "      <td>14905</td>\n",
                     "    </tr>\n",
                     "    <tr>\n",
                     "      <th>mean</th>\n",
                     "      <td>2002.988796</td>\n",
                     "      <td>6.526669</td>\n",
                     "      <td>15.734586</td>\n",
                     "      <td>11.233564</td>\n",
                     "      <td>0.0</td>\n",
                     "      <td>2003-06-28 06:35:08.554176384</td>\n",
                     "    </tr>\n",
                     "    <tr>\n",
                     "      <th>min</th>\n",
                     "      <td>1978.000000</td>\n",
                     "      <td>1.000000</td>\n",
                     "      <td>1.000000</td>\n",
                     "      <td>3.340000</td>\n",
                     "      <td>0.0</td>\n",
                     "      <td>1978-10-26 00:00:00</td>\n",
                     "    </tr>\n",
                     "    <tr>\n",
                     "      <th>25%</th>\n",
                     "      <td>1993.000000</td>\n",
                     "      <td>4.000000</td>\n",
                     "      <td>8.000000</td>\n",
                     "      <td>8.475000</td>\n",
                     "      <td>0.0</td>\n",
                     "      <td>1993-07-16 00:00:00</td>\n",
                     "    </tr>\n",
                     "    <tr>\n",
                     "      <th>50%</th>\n",
                     "      <td>2003.000000</td>\n",
                     "      <td>7.000000</td>\n",
                     "      <td>16.000000</td>\n",
                     "      <td>11.969000</td>\n",
                     "      <td>0.0</td>\n",
                     "      <td>2003-09-28 00:00:00</td>\n",
                     "    </tr>\n",
                     "    <tr>\n",
                     "      <th>75%</th>\n",
                     "      <td>2013.000000</td>\n",
                     "      <td>10.000000</td>\n",
                     "      <td>23.000000</td>\n",
                     "      <td>14.159000</td>\n",
                     "      <td>0.0</td>\n",
                     "      <td>2013-12-10 00:00:00</td>\n",
                     "    </tr>\n",
                     "    <tr>\n",
                     "      <th>max</th>\n",
                     "      <td>2024.000000</td>\n",
                     "      <td>12.000000</td>\n",
                     "      <td>31.000000</td>\n",
                     "      <td>16.635000</td>\n",
                     "      <td>0.0</td>\n",
                     "      <td>2024-02-22 00:00:00</td>\n",
                     "    </tr>\n",
                     "    <tr>\n",
                     "      <th>std</th>\n",
                     "      <td>12.207257</td>\n",
                     "      <td>3.455468</td>\n",
                     "      <td>8.800672</td>\n",
                     "      <td>3.316977</td>\n",
                     "      <td>0.0</td>\n",
                     "      <td>NaN</td>\n",
                     "    </tr>\n",
                     "  </tbody>\n",
                     "</table>\n",
                     "</div>"
                  ],
                  "text/plain": [
                     "               Year         Month           Day        Extent  Missing  \\\n",
                     "count  14905.000000  14905.000000  14905.000000  14905.000000  14905.0   \n",
                     "mean    2002.988796      6.526669     15.734586     11.233564      0.0   \n",
                     "min     1978.000000      1.000000      1.000000      3.340000      0.0   \n",
                     "25%     1993.000000      4.000000      8.000000      8.475000      0.0   \n",
                     "50%     2003.000000      7.000000     16.000000     11.969000      0.0   \n",
                     "75%     2013.000000     10.000000     23.000000     14.159000      0.0   \n",
                     "max     2024.000000     12.000000     31.000000     16.635000      0.0   \n",
                     "std       12.207257      3.455468      8.800672      3.316977      0.0   \n",
                     "\n",
                     "                                Date  \n",
                     "count                          14905  \n",
                     "mean   2003-06-28 06:35:08.554176384  \n",
                     "min              1978-10-26 00:00:00  \n",
                     "25%              1993-07-16 00:00:00  \n",
                     "50%              2003-09-28 00:00:00  \n",
                     "75%              2013-12-10 00:00:00  \n",
                     "max              2024-02-22 00:00:00  \n",
                     "std                              NaN  "
                  ]
               },
               "execution_count": 10,
               "metadata": {},
               "output_type": "execute_result"
            }
         ],
         "source": [
            "# Data Describtion \n",
            "n_seaice_clean.describe()"
         ]
      },
      {
         "cell_type": "markdown",
         "metadata": {},
         "source": [
            "### Grouping  data by Year and get the mean"
         ]
      },
      {
         "cell_type": "code",
         "execution_count": 11,
         "metadata": {},
         "outputs": [
            {
               "data": {
                  "text/html": [
                     "<div>\n",
                     "<style scoped>\n",
                     "    .dataframe tbody tr th:only-of-type {\n",
                     "        vertical-align: middle;\n",
                     "    }\n",
                     "\n",
                     "    .dataframe tbody tr th {\n",
                     "        vertical-align: top;\n",
                     "    }\n",
                     "\n",
                     "    .dataframe thead th {\n",
                     "        text-align: right;\n",
                     "    }\n",
                     "</style>\n",
                     "<table border=\"1\" class=\"dataframe\">\n",
                     "  <thead>\n",
                     "    <tr style=\"text-align: right;\">\n",
                     "      <th></th>\n",
                     "      <th>Month</th>\n",
                     "      <th>Day</th>\n",
                     "      <th>Extent</th>\n",
                     "      <th>Missing</th>\n",
                     "      <th>Date</th>\n",
                     "    </tr>\n",
                     "    <tr>\n",
                     "      <th>Year</th>\n",
                     "      <th></th>\n",
                     "      <th></th>\n",
                     "      <th></th>\n",
                     "      <th></th>\n",
                     "      <th></th>\n",
                     "    </tr>\n",
                     "  </thead>\n",
                     "  <tbody>\n",
                     "    <tr>\n",
                     "      <th>1978</th>\n",
                     "      <td>11.382353</td>\n",
                     "      <td>16.617647</td>\n",
                     "      <td>12.487000</td>\n",
                     "      <td>0.0</td>\n",
                     "      <td>1978-11-28</td>\n",
                     "    </tr>\n",
                     "    <tr>\n",
                     "      <th>1979</th>\n",
                     "      <td>6.527473</td>\n",
                     "      <td>15.681319</td>\n",
                     "      <td>12.319560</td>\n",
                     "      <td>0.0</td>\n",
                     "      <td>1979-07-02</td>\n",
                     "    </tr>\n",
                     "    <tr>\n",
                     "      <th>1980</th>\n",
                     "      <td>6.497268</td>\n",
                     "      <td>15.759563</td>\n",
                     "      <td>12.334148</td>\n",
                     "      <td>0.0</td>\n",
                     "      <td>1980-07-01</td>\n",
                     "    </tr>\n",
                     "    <tr>\n",
                     "      <th>1981</th>\n",
                     "      <td>6.524590</td>\n",
                     "      <td>15.759563</td>\n",
                     "      <td>12.135486</td>\n",
                     "      <td>0.0</td>\n",
                     "      <td>1981-07-02</td>\n",
                     "    </tr>\n",
                     "    <tr>\n",
                     "      <th>1982</th>\n",
                     "      <td>6.527473</td>\n",
                     "      <td>15.681319</td>\n",
                     "      <td>12.439445</td>\n",
                     "      <td>0.0</td>\n",
                     "      <td>1982-07-02</td>\n",
                     "    </tr>\n",
                     "  </tbody>\n",
                     "</table>\n",
                     "</div>"
                  ],
                  "text/plain": [
                     "          Month        Day     Extent  Missing       Date\n",
                     "Year                                                     \n",
                     "1978  11.382353  16.617647  12.487000      0.0 1978-11-28\n",
                     "1979   6.527473  15.681319  12.319560      0.0 1979-07-02\n",
                     "1980   6.497268  15.759563  12.334148      0.0 1980-07-01\n",
                     "1981   6.524590  15.759563  12.135486      0.0 1981-07-02\n",
                     "1982   6.527473  15.681319  12.439445      0.0 1982-07-02"
                  ]
               },
               "execution_count": 11,
               "metadata": {},
               "output_type": "execute_result"
            }
         ],
         "source": [
            "# Groupby year the data, and get the mean\n",
            "n_seaice_grouped = n_seaice_clean.groupby(['Year']).mean()\n",
            "n_seaice_grouped.head()"
         ]
      },
      {
         "cell_type": "markdown",
         "metadata": {},
         "source": [
            "### Getting the min and max year "
         ]
      },
      {
         "cell_type": "code",
         "execution_count": 12,
         "metadata": {},
         "outputs": [],
         "source": [
            "# Min & Max year \n",
            "yearMin = n_seaice_grouped.index.min()\n",
            "yearMax = n_seaice_grouped.index.max()\n",
            "print(yearMin)\n",
            "print(yearMax)"
         ]
      },
      {
         "cell_type": "markdown",
         "metadata": {},
         "source": [
            "### Dropping the min and max  (1978 & 2024), and the reason is explained in the beginning of the notebook."
         ]
      },
      {
         "cell_type": "code",
         "execution_count": 13,
         "metadata": {},
         "outputs": [],
         "source": [
            "# remove the first year and the last year\n",
            "n_seaice_grouped = n_seaice_grouped.drop([yearMin, yearMax])"
         ]
      },
      {
         "cell_type": "markdown",
         "metadata": {},
         "source": [
            "### Plotting the arctic  sea ice extent"
         ]
      },
      {
         "cell_type": "code",
         "execution_count": 14,
         "metadata": {},
         "outputs": [],
         "source": [
            "# plot the data\n",
            "plt.style.use('seaborn-v0_8')\n",
            "plt.figure(figsize=(10, 6))\n",
            "plt.plot(n_seaice_grouped['Extent'], label='Arctic Ics Extent')\n",
            "plt.xlabel('Year')\n",
            "plt.ylabel('Ice Extent')\n",
            "plt.title('Arctic Sea Ice Extent', fontsize=20)\n",
            "plt.legend()\n",
            "plt.show()\n"
         ]
      },
      {
         "cell_type": "markdown",
         "metadata": {},
         "source": [
            "### Adding a regression line"
         ]
      },
      {
         "cell_type": "code",
         "execution_count": 15,
         "metadata": {},
         "outputs": [],
         "source": [
            "# Add regression line\n",
            "# plot the data\n",
            "plt.style.use('seaborn-v0_8')\n",
            "plt.figure(figsize=(10, 6))\n",
            "plt.plot(n_seaice_grouped['Extent'], label='Arctic Ics Extent', color='black')\n",
            "plt.xlabel('Year')\n",
            "plt.ylabel('Ice Extent')\n",
            "plt.title('Arctic Sea Ice Extent', fontsize=20)\n",
            "plt.legend()\n",
            "\n",
            "# Add regression line\n",
            "z = np.polyfit(n_seaice_grouped.index, n_seaice_grouped['Extent'], 1)\n",
            "p = np.poly1d(z)\n",
            "plt.plot(n_seaice_grouped.index, p(n_seaice_grouped.index), \"r-\")\n",
            "plt.show()\n"
         ]
      },
      {
         "cell_type": "markdown",
         "metadata": {},
         "source": [
            "### Loading the Antarctic data"
         ]
      },
      {
         "cell_type": "code",
         "execution_count": 16,
         "metadata": {},
         "outputs": [],
         "source": [
            "# if the data is not available, download it\n",
            "\n",
            "# check the files in the Datasets directory\n",
            "path = pathlib.Path(\"Datasets\")\n",
            "files = [file.name for file in path.iterdir()]\n",
            "if \"S_seaice_extent_daily_v3.0.csv\" in files:\n",
            "    print(\"The data is available\")\n",
            "else:\n",
            "    # read the data\n",
            "    url = \"https://noaadata.apps.nsidc.org/NOAA/G02135/south/daily/data/S_seaice_extent_daily_v3.0.csv\"\n",
            "    r = requests.get(url)\n",
            "    with open(\"Datasets/S_seaice_extent_daily_v3.0.csv\", \"wb\") as f:\n",
            "        f.write(r.content)\n",
            "\n"
         ]
      },
      {
         "cell_type": "markdown",
         "metadata": {},
         "source": [
            "### Reading the data in csv format"
         ]
      },
      {
         "cell_type": "code",
         "execution_count": 17,
         "metadata": {},
         "outputs": [
            {
               "data": {
                  "text/html": [
                     "<div>\n",
                     "<style scoped>\n",
                     "    .dataframe tbody tr th:only-of-type {\n",
                     "        vertical-align: middle;\n",
                     "    }\n",
                     "\n",
                     "    .dataframe tbody tr th {\n",
                     "        vertical-align: top;\n",
                     "    }\n",
                     "\n",
                     "    .dataframe thead th {\n",
                     "        text-align: right;\n",
                     "    }\n",
                     "</style>\n",
                     "<table border=\"1\" class=\"dataframe\">\n",
                     "  <thead>\n",
                     "    <tr style=\"text-align: right;\">\n",
                     "      <th></th>\n",
                     "      <th>Year</th>\n",
                     "      <th>Month</th>\n",
                     "      <th>Day</th>\n",
                     "      <th>Extent</th>\n",
                     "      <th>Missing</th>\n",
                     "      <th>Source Data</th>\n",
                     "    </tr>\n",
                     "  </thead>\n",
                     "  <tbody>\n",
                     "    <tr>\n",
                     "      <th>0</th>\n",
                     "      <td>YYYY</td>\n",
                     "      <td>MM</td>\n",
                     "      <td>DD</td>\n",
                     "      <td>10^6 sq km</td>\n",
                     "      <td>10^6 sq km</td>\n",
                     "      <td>Source data product web sites: http://nsidc.o...</td>\n",
                     "    </tr>\n",
                     "    <tr>\n",
                     "      <th>1</th>\n",
                     "      <td>1978</td>\n",
                     "      <td>10</td>\n",
                     "      <td>26</td>\n",
                     "      <td>17.624</td>\n",
                     "      <td>0.000</td>\n",
                     "      <td>['/ecs/DP1/PM/NSIDC-0051.001/1978.10.26/nt_19...</td>\n",
                     "    </tr>\n",
                     "    <tr>\n",
                     "      <th>2</th>\n",
                     "      <td>1978</td>\n",
                     "      <td>10</td>\n",
                     "      <td>28</td>\n",
                     "      <td>17.803</td>\n",
                     "      <td>0.000</td>\n",
                     "      <td>['/ecs/DP1/PM/NSIDC-0051.001/1978.10.28/nt_19...</td>\n",
                     "    </tr>\n",
                     "    <tr>\n",
                     "      <th>3</th>\n",
                     "      <td>1978</td>\n",
                     "      <td>10</td>\n",
                     "      <td>30</td>\n",
                     "      <td>17.670</td>\n",
                     "      <td>0.000</td>\n",
                     "      <td>['/ecs/DP1/PM/NSIDC-0051.001/1978.10.30/nt_19...</td>\n",
                     "    </tr>\n",
                     "    <tr>\n",
                     "      <th>4</th>\n",
                     "      <td>1978</td>\n",
                     "      <td>11</td>\n",
                     "      <td>01</td>\n",
                     "      <td>17.527</td>\n",
                     "      <td>0.000</td>\n",
                     "      <td>['/ecs/DP1/PM/NSIDC-0051.001/1978.11.01/nt_19...</td>\n",
                     "    </tr>\n",
                     "  </tbody>\n",
                     "</table>\n",
                     "</div>"
                  ],
                  "text/plain": [
                     "   Year   Month   Day       Extent      Missing  \\\n",
                     "0  YYYY      MM    DD   10^6 sq km   10^6 sq km   \n",
                     "1  1978      10    26       17.624        0.000   \n",
                     "2  1978      10    28       17.803        0.000   \n",
                     "3  1978      10    30       17.670        0.000   \n",
                     "4  1978      11    01       17.527        0.000   \n",
                     "\n",
                     "                                         Source Data  \n",
                     "0   Source data product web sites: http://nsidc.o...  \n",
                     "1   ['/ecs/DP1/PM/NSIDC-0051.001/1978.10.26/nt_19...  \n",
                     "2   ['/ecs/DP1/PM/NSIDC-0051.001/1978.10.28/nt_19...  \n",
                     "3   ['/ecs/DP1/PM/NSIDC-0051.001/1978.10.30/nt_19...  \n",
                     "4   ['/ecs/DP1/PM/NSIDC-0051.001/1978.11.01/nt_19...  "
                  ]
               },
               "execution_count": 17,
               "metadata": {},
               "output_type": "execute_result"
            }
         ],
         "source": [
            "s_seaice = pd.read_csv ('Datasets/S_seaice_extent_daily_v3.0.csv', header=0)\n",
            "\n",
            "s_seaice.head()"
         ]
      },
      {
         "cell_type": "markdown",
         "metadata": {},
         "source": [
            "### Exploring the data"
         ]
      },
      {
         "cell_type": "code",
         "execution_count": 18,
         "metadata": {},
         "outputs": [
            {
               "data": {
                  "text/plain": [
                     "Index(['Year', ' Month', ' Day', '     Extent', '    Missing', ' Source Data'], dtype='object')"
                  ]
               },
               "execution_count": 18,
               "metadata": {},
               "output_type": "execute_result"
            }
         ],
         "source": [
            "# Name of the columns\n",
            "s_seaice.columns"
         ]
      },
      {
         "cell_type": "markdown",
         "metadata": {},
         "source": [
            "### Dropping the column [' Source Data'], and the first Row of the data"
         ]
      },
      {
         "cell_type": "code",
         "execution_count": 19,
         "metadata": {},
         "outputs": [
            {
               "data": {
                  "text/html": [
                     "<div>\n",
                     "<style scoped>\n",
                     "    .dataframe tbody tr th:only-of-type {\n",
                     "        vertical-align: middle;\n",
                     "    }\n",
                     "\n",
                     "    .dataframe tbody tr th {\n",
                     "        vertical-align: top;\n",
                     "    }\n",
                     "\n",
                     "    .dataframe thead th {\n",
                     "        text-align: right;\n",
                     "    }\n",
                     "</style>\n",
                     "<table border=\"1\" class=\"dataframe\">\n",
                     "  <thead>\n",
                     "    <tr style=\"text-align: right;\">\n",
                     "      <th></th>\n",
                     "      <th>Year</th>\n",
                     "      <th>Month</th>\n",
                     "      <th>Day</th>\n",
                     "      <th>Extent</th>\n",
                     "      <th>Missing</th>\n",
                     "    </tr>\n",
                     "  </thead>\n",
                     "  <tbody>\n",
                     "    <tr>\n",
                     "      <th>1</th>\n",
                     "      <td>1978</td>\n",
                     "      <td>10</td>\n",
                     "      <td>26</td>\n",
                     "      <td>17.624</td>\n",
                     "      <td>0.000</td>\n",
                     "    </tr>\n",
                     "    <tr>\n",
                     "      <th>2</th>\n",
                     "      <td>1978</td>\n",
                     "      <td>10</td>\n",
                     "      <td>28</td>\n",
                     "      <td>17.803</td>\n",
                     "      <td>0.000</td>\n",
                     "    </tr>\n",
                     "    <tr>\n",
                     "      <th>3</th>\n",
                     "      <td>1978</td>\n",
                     "      <td>10</td>\n",
                     "      <td>30</td>\n",
                     "      <td>17.670</td>\n",
                     "      <td>0.000</td>\n",
                     "    </tr>\n",
                     "    <tr>\n",
                     "      <th>4</th>\n",
                     "      <td>1978</td>\n",
                     "      <td>11</td>\n",
                     "      <td>01</td>\n",
                     "      <td>17.527</td>\n",
                     "      <td>0.000</td>\n",
                     "    </tr>\n",
                     "    <tr>\n",
                     "      <th>5</th>\n",
                     "      <td>1978</td>\n",
                     "      <td>11</td>\n",
                     "      <td>03</td>\n",
                     "      <td>17.486</td>\n",
                     "      <td>0.000</td>\n",
                     "    </tr>\n",
                     "  </tbody>\n",
                     "</table>\n",
                     "</div>"
                  ],
                  "text/plain": [
                     "   Year   Month   Day       Extent      Missing\n",
                     "1  1978      10    26       17.624        0.000\n",
                     "2  1978      10    28       17.803        0.000\n",
                     "3  1978      10    30       17.670        0.000\n",
                     "4  1978      11    01       17.527        0.000\n",
                     "5  1978      11    03       17.486        0.000"
                  ]
               },
               "execution_count": 19,
               "metadata": {},
               "output_type": "execute_result"
            }
         ],
         "source": [
            "# Dropping the cloumn (Soure Data)\n",
            "s_seaice_clean = (s_seaice\n",
            "                  .drop([' Source Data'], axis =1)\n",
            "                  .drop([0], axis=0))\n",
            "s_seaice_clean.head()"
         ]
      },
      {
         "cell_type": "code",
         "execution_count": 20,
         "metadata": {},
         "outputs": [
            {
               "data": {
                  "text/plain": [
                     "(14905, 5)"
                  ]
               },
               "execution_count": 20,
               "metadata": {},
               "output_type": "execute_result"
            }
         ],
         "source": [
            "# Shape of the data\n",
            "s_seaice_clean.shape"
         ]
      },
      {
         "cell_type": "code",
         "execution_count": 21,
         "metadata": {},
         "outputs": [
            {
               "data": {
                  "text/plain": [
                     "Year           object\n",
                     " Month         object\n",
                     " Day           object\n",
                     "     Extent    object\n",
                     "    Missing    object\n",
                     "dtype: object"
                  ]
               },
               "execution_count": 21,
               "metadata": {},
               "output_type": "execute_result"
            }
         ],
         "source": [
            "# Types of the data \n",
            "s_seaice_clean.dtypes"
         ]
      },
      {
         "cell_type": "markdown",
         "metadata": {},
         "source": [
            "### Converting the interested columns into integer format, since all the cols are in object format."
         ]
      },
      {
         "cell_type": "code",
         "execution_count": 22,
         "metadata": {},
         "outputs": [
            {
               "data": {
                  "text/html": [
                     "<div>\n",
                     "<style scoped>\n",
                     "    .dataframe tbody tr th:only-of-type {\n",
                     "        vertical-align: middle;\n",
                     "    }\n",
                     "\n",
                     "    .dataframe tbody tr th {\n",
                     "        vertical-align: top;\n",
                     "    }\n",
                     "\n",
                     "    .dataframe thead th {\n",
                     "        text-align: right;\n",
                     "    }\n",
                     "</style>\n",
                     "<table border=\"1\" class=\"dataframe\">\n",
                     "  <thead>\n",
                     "    <tr style=\"text-align: right;\">\n",
                     "      <th></th>\n",
                     "      <th>Year</th>\n",
                     "      <th>Month</th>\n",
                     "      <th>Day</th>\n",
                     "      <th>Extent</th>\n",
                     "      <th>Missing</th>\n",
                     "      <th>Date</th>\n",
                     "    </tr>\n",
                     "  </thead>\n",
                     "  <tbody>\n",
                     "    <tr>\n",
                     "      <th>1</th>\n",
                     "      <td>1978</td>\n",
                     "      <td>10</td>\n",
                     "      <td>26</td>\n",
                     "      <td>17.624</td>\n",
                     "      <td>0.0</td>\n",
                     "      <td>1978-10-26</td>\n",
                     "    </tr>\n",
                     "    <tr>\n",
                     "      <th>2</th>\n",
                     "      <td>1978</td>\n",
                     "      <td>10</td>\n",
                     "      <td>28</td>\n",
                     "      <td>17.803</td>\n",
                     "      <td>0.0</td>\n",
                     "      <td>1978-10-28</td>\n",
                     "    </tr>\n",
                     "    <tr>\n",
                     "      <th>3</th>\n",
                     "      <td>1978</td>\n",
                     "      <td>10</td>\n",
                     "      <td>30</td>\n",
                     "      <td>17.670</td>\n",
                     "      <td>0.0</td>\n",
                     "      <td>1978-10-30</td>\n",
                     "    </tr>\n",
                     "    <tr>\n",
                     "      <th>4</th>\n",
                     "      <td>1978</td>\n",
                     "      <td>11</td>\n",
                     "      <td>1</td>\n",
                     "      <td>17.527</td>\n",
                     "      <td>0.0</td>\n",
                     "      <td>1978-11-01</td>\n",
                     "    </tr>\n",
                     "    <tr>\n",
                     "      <th>5</th>\n",
                     "      <td>1978</td>\n",
                     "      <td>11</td>\n",
                     "      <td>3</td>\n",
                     "      <td>17.486</td>\n",
                     "      <td>0.0</td>\n",
                     "      <td>1978-11-03</td>\n",
                     "    </tr>\n",
                     "  </tbody>\n",
                     "</table>\n",
                     "</div>"
                  ],
                  "text/plain": [
                     "   Year  Month  Day  Extent  Missing       Date\n",
                     "1  1978     10   26  17.624      0.0 1978-10-26\n",
                     "2  1978     10   28  17.803      0.0 1978-10-28\n",
                     "3  1978     10   30  17.670      0.0 1978-10-30\n",
                     "4  1978     11    1  17.527      0.0 1978-11-01\n",
                     "5  1978     11    3  17.486      0.0 1978-11-03"
                  ]
               },
               "execution_count": 22,
               "metadata": {},
               "output_type": "execute_result"
            }
         ],
         "source": [
            "# Change the Year, Month and Day columns to integers\n",
            "s_seaice_clean['Year'] = s_seaice_clean['Year'].astype(int)\n",
            "s_seaice_clean['Month'] = s_seaice_clean[' Month'].astype(int)\n",
            "s_seaice_clean['Day'] = s_seaice_clean[' Day'].astype(int)\n",
            "s_seaice_clean['Extent'] = s_seaice_clean['     Extent'].astype(float)\n",
            "s_seaice_clean['Missing'] = s_seaice_clean['    Missing'].astype(float)\n",
            "s_seaice_clean =(s_seaice_clean\n",
            "                 .drop([' Month'], axis=1)\n",
            "                 .drop([' Day'], axis=1)\n",
            "                 .drop(['     Extent'], axis=1)\n",
            "                 .drop(['    Missing'], axis=1))\n",
            "s_seaice_clean['Date'] = pd.to_datetime(s_seaice_clean[['Year', 'Month', 'Day']])\n",
            "s_seaice_clean.head()"
         ]
      },
      {
         "cell_type": "markdown",
         "metadata": {},
         "source": [
            "### Grouping  data by Year and get the mean"
         ]
      },
      {
         "cell_type": "code",
         "execution_count": 23,
         "metadata": {},
         "outputs": [
            {
               "data": {
                  "text/html": [
                     "<div>\n",
                     "<style scoped>\n",
                     "    .dataframe tbody tr th:only-of-type {\n",
                     "        vertical-align: middle;\n",
                     "    }\n",
                     "\n",
                     "    .dataframe tbody tr th {\n",
                     "        vertical-align: top;\n",
                     "    }\n",
                     "\n",
                     "    .dataframe thead th {\n",
                     "        text-align: right;\n",
                     "    }\n",
                     "</style>\n",
                     "<table border=\"1\" class=\"dataframe\">\n",
                     "  <thead>\n",
                     "    <tr style=\"text-align: right;\">\n",
                     "      <th></th>\n",
                     "      <th>Month</th>\n",
                     "      <th>Day</th>\n",
                     "      <th>Extent</th>\n",
                     "      <th>Missing</th>\n",
                     "      <th>Date</th>\n",
                     "    </tr>\n",
                     "    <tr>\n",
                     "      <th>Year</th>\n",
                     "      <th></th>\n",
                     "      <th></th>\n",
                     "      <th></th>\n",
                     "      <th></th>\n",
                     "      <th></th>\n",
                     "    </tr>\n",
                     "  </thead>\n",
                     "  <tbody>\n",
                     "    <tr>\n",
                     "      <th>2020</th>\n",
                     "      <td>6.513661</td>\n",
                     "      <td>15.756831</td>\n",
                     "      <td>11.602402</td>\n",
                     "      <td>0.000000</td>\n",
                     "      <td>2020-07-01 12:00:00.000000000</td>\n",
                     "    </tr>\n",
                     "    <tr>\n",
                     "      <th>2021</th>\n",
                     "      <td>6.526027</td>\n",
                     "      <td>15.720548</td>\n",
                     "      <td>11.578682</td>\n",
                     "      <td>0.000000</td>\n",
                     "      <td>2021-07-02 00:00:00.000000000</td>\n",
                     "    </tr>\n",
                     "    <tr>\n",
                     "      <th>2022</th>\n",
                     "      <td>6.526027</td>\n",
                     "      <td>15.720548</td>\n",
                     "      <td>10.726003</td>\n",
                     "      <td>0.000000</td>\n",
                     "      <td>2022-07-01 23:59:59.999999744</td>\n",
                     "    </tr>\n",
                     "    <tr>\n",
                     "      <th>2023</th>\n",
                     "      <td>6.526027</td>\n",
                     "      <td>15.720548</td>\n",
                     "      <td>9.852699</td>\n",
                     "      <td>0.000164</td>\n",
                     "      <td>2023-07-02 00:00:00.000000000</td>\n",
                     "    </tr>\n",
                     "    <tr>\n",
                     "      <th>2024</th>\n",
                     "      <td>1.415094</td>\n",
                     "      <td>14.132075</td>\n",
                     "      <td>3.199000</td>\n",
                     "      <td>0.004472</td>\n",
                     "      <td>2024-01-27 00:00:00.000000000</td>\n",
                     "    </tr>\n",
                     "  </tbody>\n",
                     "</table>\n",
                     "</div>"
                  ],
                  "text/plain": [
                     "         Month        Day     Extent   Missing                          Date\n",
                     "Year                                                                        \n",
                     "2020  6.513661  15.756831  11.602402  0.000000 2020-07-01 12:00:00.000000000\n",
                     "2021  6.526027  15.720548  11.578682  0.000000 2021-07-02 00:00:00.000000000\n",
                     "2022  6.526027  15.720548  10.726003  0.000000 2022-07-01 23:59:59.999999744\n",
                     "2023  6.526027  15.720548   9.852699  0.000164 2023-07-02 00:00:00.000000000\n",
                     "2024  1.415094  14.132075   3.199000  0.004472 2024-01-27 00:00:00.000000000"
                  ]
               },
               "execution_count": 23,
               "metadata": {},
               "output_type": "execute_result"
            }
         ],
         "source": [
            "s_seaice_grouped = s_seaice_clean.groupby(['Year']).mean()\n",
            "s_seaice_grouped.tail() "
         ]
      },
      {
         "cell_type": "markdown",
         "metadata": {},
         "source": [
            "### Getting the min and max year "
         ]
      },
      {
         "cell_type": "code",
         "execution_count": 24,
         "metadata": {},
         "outputs": [],
         "source": [
            "yearMin = s_seaice_grouped.index.min()\n",
            "yearMax = s_seaice_grouped.index.max()\n",
            "print(yearMin)\n",
            "print(yearMax)"
         ]
      },
      {
         "cell_type": "markdown",
         "metadata": {},
         "source": [
            "### Dropping the min and max  (1978 & 2024), and the reason is explained in the beginning of the notebook."
         ]
      },
      {
         "cell_type": "code",
         "execution_count": 25,
         "metadata": {},
         "outputs": [],
         "source": [
            "# remove 1978 and 2024\n",
            "s_seaice_grouped = s_seaice_grouped.drop([yearMin, yearMax])"
         ]
      },
      {
         "cell_type": "code",
         "execution_count": 26,
         "metadata": {},
         "outputs": [
            {
               "data": {
                  "text/html": [
                     "<div>\n",
                     "<style scoped>\n",
                     "    .dataframe tbody tr th:only-of-type {\n",
                     "        vertical-align: middle;\n",
                     "    }\n",
                     "\n",
                     "    .dataframe tbody tr th {\n",
                     "        vertical-align: top;\n",
                     "    }\n",
                     "\n",
                     "    .dataframe thead th {\n",
                     "        text-align: right;\n",
                     "    }\n",
                     "</style>\n",
                     "<table border=\"1\" class=\"dataframe\">\n",
                     "  <thead>\n",
                     "    <tr style=\"text-align: right;\">\n",
                     "      <th></th>\n",
                     "      <th>Month</th>\n",
                     "      <th>Day</th>\n",
                     "      <th>Extent</th>\n",
                     "      <th>Missing</th>\n",
                     "      <th>Date</th>\n",
                     "    </tr>\n",
                     "    <tr>\n",
                     "      <th>Year</th>\n",
                     "      <th></th>\n",
                     "      <th></th>\n",
                     "      <th></th>\n",
                     "      <th></th>\n",
                     "      <th></th>\n",
                     "    </tr>\n",
                     "  </thead>\n",
                     "  <tbody>\n",
                     "    <tr>\n",
                     "      <th>2019</th>\n",
                     "      <td>6.526027</td>\n",
                     "      <td>15.720548</td>\n",
                     "      <td>10.876060</td>\n",
                     "      <td>0.000000</td>\n",
                     "      <td>2019-07-02 00:00:00.000000000</td>\n",
                     "    </tr>\n",
                     "    <tr>\n",
                     "      <th>2020</th>\n",
                     "      <td>6.513661</td>\n",
                     "      <td>15.756831</td>\n",
                     "      <td>11.602402</td>\n",
                     "      <td>0.000000</td>\n",
                     "      <td>2020-07-01 12:00:00.000000000</td>\n",
                     "    </tr>\n",
                     "    <tr>\n",
                     "      <th>2021</th>\n",
                     "      <td>6.526027</td>\n",
                     "      <td>15.720548</td>\n",
                     "      <td>11.578682</td>\n",
                     "      <td>0.000000</td>\n",
                     "      <td>2021-07-02 00:00:00.000000000</td>\n",
                     "    </tr>\n",
                     "    <tr>\n",
                     "      <th>2022</th>\n",
                     "      <td>6.526027</td>\n",
                     "      <td>15.720548</td>\n",
                     "      <td>10.726003</td>\n",
                     "      <td>0.000000</td>\n",
                     "      <td>2022-07-01 23:59:59.999999744</td>\n",
                     "    </tr>\n",
                     "    <tr>\n",
                     "      <th>2023</th>\n",
                     "      <td>6.526027</td>\n",
                     "      <td>15.720548</td>\n",
                     "      <td>9.852699</td>\n",
                     "      <td>0.000164</td>\n",
                     "      <td>2023-07-02 00:00:00.000000000</td>\n",
                     "    </tr>\n",
                     "  </tbody>\n",
                     "</table>\n",
                     "</div>"
                  ],
                  "text/plain": [
                     "         Month        Day     Extent   Missing                          Date\n",
                     "Year                                                                        \n",
                     "2019  6.526027  15.720548  10.876060  0.000000 2019-07-02 00:00:00.000000000\n",
                     "2020  6.513661  15.756831  11.602402  0.000000 2020-07-01 12:00:00.000000000\n",
                     "2021  6.526027  15.720548  11.578682  0.000000 2021-07-02 00:00:00.000000000\n",
                     "2022  6.526027  15.720548  10.726003  0.000000 2022-07-01 23:59:59.999999744\n",
                     "2023  6.526027  15.720548   9.852699  0.000164 2023-07-02 00:00:00.000000000"
                  ]
               },
               "execution_count": 26,
               "metadata": {},
               "output_type": "execute_result"
            }
         ],
         "source": [
            "s_seaice_grouped.tail()"
         ]
      },
      {
         "cell_type": "markdown",
         "metadata": {},
         "source": [
            "### Plotting the arctic  sea ice extent"
         ]
      },
      {
         "cell_type": "code",
         "execution_count": 27,
         "metadata": {},
         "outputs": [],
         "source": [
            "# plot the rolling mean of the sea ice extent\n",
            "\n",
            "# plot the data\n",
            "plt.style.use('seaborn-v0_8')\n",
            "plt.figure(figsize=(10,6))\n",
            "plt.plot(s_seaice_grouped['Extent'], label='Antarctic Ics Extent')\n",
            "plt.xlabel('Year')\n",
            "plt.ylabel('Ice Extent')\n",
            "plt.title('Antarctic Sea Ice Extent', fontsize=20)\n",
            "plt.legend()\n",
            "plt.show()"
         ]
      },
      {
         "cell_type": "markdown",
         "metadata": {},
         "source": [
            "### Adding a regression line"
         ]
      },
      {
         "cell_type": "code",
         "execution_count": 28,
         "metadata": {},
         "outputs": [],
         "source": [
            "# Add regression line\n",
            "# plot the data\n",
            "plt.style.use('seaborn-v0_8')\n",
            "plt.figure(figsize=(10, 6))\n",
            "plt.plot(s_seaice_grouped['Extent'], label='Antarctic Ics Extent', color='black')\n",
            "plt.xlabel('Year')\n",
            "plt.ylabel('Ice Extent')\n",
            "plt.title('Antarctic Sea Ice Extent', fontsize=20)\n",
            "plt.legend()\n",
            "\n",
            "# Add regression line\n",
            "z = np.polyfit(s_seaice_grouped.index, s_seaice_grouped['Extent'], 1)\n",
            "p = np.poly1d(z)\n",
            "plt.plot(s_seaice_grouped.index, p(s_seaice_grouped.index), \"r-\")\n",
            "plt.show()\n"
         ]
      },
      {
         "cell_type": "markdown",
         "metadata": {},
         "source": [
            "### Plotting together the Arctic & Antarctic sea ice extent "
         ]
      },
      {
         "cell_type": "code",
         "execution_count": 29,
         "metadata": {},
         "outputs": [],
         "source": [
            "# plot the arctic and antarctic ice extent in one plot\n",
            "\n",
            "# plot the data\n",
            "plt.style.use('seaborn-v0_8')\n",
            "plt.figure(figsize=(10,6))\n",
            "plt.plot(s_seaice_grouped['Extent'], label='Antarctic Ics Extent')\n",
            "plt.plot(n_seaice_grouped['Extent'], label='Arctic Ics Extent')\n",
            "plt.xlabel('Year')\n",
            "plt.ylabel('Ice Extent')\n",
            "plt.title('Sea Ice Extent', fontsize=20)\n",
            "plt.legend()\n",
            "plt.show()\n"
         ]
      },
      {
         "cell_type": "markdown",
         "metadata": {},
         "source": [
            "### Plotting together the Arctic & Antarctic sea ice extent, and adding the regression line"
         ]
      },
      {
         "cell_type": "code",
         "execution_count": 30,
         "metadata": {},
         "outputs": [],
         "source": [
            "# Fit a linear regression line for Antarctic ice extent\n",
            "x_antarctic = np.arange(len(s_seaice_grouped['Extent']))\n",
            "y_antarctic = s_seaice_grouped['Extent']\n",
            "coefficients_antarctic = np.polyfit(x_antarctic, y_antarctic, 1)\n",
            "poly_line_antarctic = np.poly1d(coefficients_antarctic)\n",
            "\n",
            "# Fit a linear regression line for Arctic ice extent\n",
            "x_arctic = np.arange(len(n_seaice_grouped['Extent']))\n",
            "y_arctic = n_seaice_grouped['Extent']\n",
            "coefficients_arctic = np.polyfit(x_arctic, y_arctic, 1)\n",
            "poly_line_arctic = np.poly1d(coefficients_arctic)\n",
            "\n",
            "# Assuming you have already calculated y_antarctic and y_arctic\n",
            "# Plotting\n",
            "plt.style.use('seaborn-v0_8')\n",
            "plt.figure(figsize=(10,6))\n",
            "\n",
            "# Plot Antarctic sea ice extent and regression line\n",
            "plt.plot(s_seaice_grouped.index, y_antarctic, label='Antarctic Ice Extent')\n",
            "plt.plot(s_seaice_grouped.index, poly_line_antarctic(x_antarctic), label='Antarctic Regression Line', color='blue', linestyle='--')\n",
            "\n",
            "# Plot Arctic sea ice extent and regression line\n",
            "plt.plot(n_seaice_grouped.index, y_arctic, label='Arctic Ice Extent')\n",
            "plt.plot(n_seaice_grouped.index, poly_line_arctic(x_arctic), label='Arctic Regression Line', color='orange', linestyle='--')\n",
            "\n",
            "plt.xlabel('Year')\n",
            "plt.ylabel('Ice Extent')\n",
            "plt.title('Sea Ice Extent', fontsize=20)\n",
            "plt.legend()\n",
            "plt.show()"
         ]
      },
      {
         "cell_type": "markdown",
         "metadata": {},
         "source": [
            "### Part Two: Global Mean Sea Level\n",
            "\n",
            "The data for GMSL is from two sources:\n",
            "1. US Environmental Protection Agency, from 1880-2014. The data is monthly, instead of daily. It is recorded on the 15th of every month. The columns are: \"Time\", \"GMSL\".\n",
            "\n",
            "2. European Environment Agency, from 1993-2022. The data obtained is daily. The columns are: \"Year\", \"GSML\".\n",
            "\n",
            "We intend to observe the change in sea level over the years and evaluate the consistency of the the two data sets."
         ]
      },
      {
         "cell_type": "code",
         "execution_count": 31,
         "metadata": {},
         "outputs": [],
         "source": [
            "# check the files in the Datasets directory\n",
            "path = pathlib.Path(\"Datasets\")\n",
            "files = [file.name for file in path.iterdir()]\n",
            "if \"sea-level-rise_zip.zip\" in files:\n",
            "    print(\"The data is available\")\n",
            "\n",
            "else:\n",
            "    # read the data\n",
            "    url = \"https://datahub.io/core/sea-level-rise/r/sea-level-rise_zip.zip\"\n",
            "    r = requests.get(url)\n",
            "    with open(\"Datasets/sea-level-rise_zip.zip\", \"wb\") as f:\n",
            "        f.write(r.content)\n",
            "\n",
            "    # unzip the file\n",
            "    with zipfile.ZipFile(\"Datasets/sea-level-rise_zip.zip\", 'r') as zip_ref:\n",
            "        zip_ref.extractall(\"Datasets/sea-level-rise\")\n",
            "\n"
         ]
      },
      {
         "cell_type": "markdown",
         "metadata": {},
         "source": [
            "### Reading the data in csv format"
         ]
      },
      {
         "cell_type": "code",
         "execution_count": 32,
         "metadata": {},
         "outputs": [
            {
               "data": {
                  "text/html": [
                     "<div>\n",
                     "<style scoped>\n",
                     "    .dataframe tbody tr th:only-of-type {\n",
                     "        vertical-align: middle;\n",
                     "    }\n",
                     "\n",
                     "    .dataframe tbody tr th {\n",
                     "        vertical-align: top;\n",
                     "    }\n",
                     "\n",
                     "    .dataframe thead th {\n",
                     "        text-align: right;\n",
                     "    }\n",
                     "</style>\n",
                     "<table border=\"1\" class=\"dataframe\">\n",
                     "  <thead>\n",
                     "    <tr style=\"text-align: right;\">\n",
                     "      <th></th>\n",
                     "      <th>Time</th>\n",
                     "      <th>GMSL</th>\n",
                     "    </tr>\n",
                     "  </thead>\n",
                     "  <tbody>\n",
                     "    <tr>\n",
                     "      <th>0</th>\n",
                     "      <td>1993-01-15</td>\n",
                     "      <td>-1.6</td>\n",
                     "    </tr>\n",
                     "    <tr>\n",
                     "      <th>1</th>\n",
                     "      <td>1993-02-15</td>\n",
                     "      <td>-3.4</td>\n",
                     "    </tr>\n",
                     "    <tr>\n",
                     "      <th>2</th>\n",
                     "      <td>1993-03-15</td>\n",
                     "      <td>5.5</td>\n",
                     "    </tr>\n",
                     "    <tr>\n",
                     "      <th>3</th>\n",
                     "      <td>1993-04-15</td>\n",
                     "      <td>0.1</td>\n",
                     "    </tr>\n",
                     "    <tr>\n",
                     "      <th>4</th>\n",
                     "      <td>1993-05-15</td>\n",
                     "      <td>5.3</td>\n",
                     "    </tr>\n",
                     "  </tbody>\n",
                     "</table>\n",
                     "</div>"
                  ],
                  "text/plain": [
                     "         Time  GMSL\n",
                     "0  1993-01-15  -1.6\n",
                     "1  1993-02-15  -3.4\n",
                     "2  1993-03-15   5.5\n",
                     "3  1993-04-15   0.1\n",
                     "4  1993-05-15   5.3"
                  ]
               },
               "execution_count": 32,
               "metadata": {},
               "output_type": "execute_result"
            }
         ],
         "source": [
            "# read the sea level data\n",
            "\n",
            "sea_level = pd.read_csv('Datasets/sea-level-rise/data/csiro_alt_gmsl_mo_2015_csv.csv', header=0)\n",
            "sea_level.head()"
         ]
      },
      {
         "cell_type": "code",
         "execution_count": 33,
         "metadata": {},
         "outputs": [],
         "source": [
            "sea_level.info()"
         ]
      },
      {
         "cell_type": "markdown",
         "metadata": {},
         "source": [
            "### Converting the time column (Year)  to a date format"
         ]
      },
      {
         "cell_type": "code",
         "execution_count": 34,
         "metadata": {},
         "outputs": [
            {
               "data": {
                  "text/html": [
                     "<div>\n",
                     "<style scoped>\n",
                     "    .dataframe tbody tr th:only-of-type {\n",
                     "        vertical-align: middle;\n",
                     "    }\n",
                     "\n",
                     "    .dataframe tbody tr th {\n",
                     "        vertical-align: top;\n",
                     "    }\n",
                     "\n",
                     "    .dataframe thead th {\n",
                     "        text-align: right;\n",
                     "    }\n",
                     "</style>\n",
                     "<table border=\"1\" class=\"dataframe\">\n",
                     "  <thead>\n",
                     "    <tr style=\"text-align: right;\">\n",
                     "      <th></th>\n",
                     "      <th>Time</th>\n",
                     "      <th>GMSL</th>\n",
                     "    </tr>\n",
                     "  </thead>\n",
                     "  <tbody>\n",
                     "    <tr>\n",
                     "      <th>0</th>\n",
                     "      <td>1993-01-15</td>\n",
                     "      <td>-1.6</td>\n",
                     "    </tr>\n",
                     "    <tr>\n",
                     "      <th>1</th>\n",
                     "      <td>1993-02-15</td>\n",
                     "      <td>-3.4</td>\n",
                     "    </tr>\n",
                     "    <tr>\n",
                     "      <th>2</th>\n",
                     "      <td>1993-03-15</td>\n",
                     "      <td>5.5</td>\n",
                     "    </tr>\n",
                     "    <tr>\n",
                     "      <th>3</th>\n",
                     "      <td>1993-04-15</td>\n",
                     "      <td>0.1</td>\n",
                     "    </tr>\n",
                     "    <tr>\n",
                     "      <th>4</th>\n",
                     "      <td>1993-05-15</td>\n",
                     "      <td>5.3</td>\n",
                     "    </tr>\n",
                     "  </tbody>\n",
                     "</table>\n",
                     "</div>"
                  ],
                  "text/plain": [
                     "        Time  GMSL\n",
                     "0 1993-01-15  -1.6\n",
                     "1 1993-02-15  -3.4\n",
                     "2 1993-03-15   5.5\n",
                     "3 1993-04-15   0.1\n",
                     "4 1993-05-15   5.3"
                  ]
               },
               "execution_count": 34,
               "metadata": {},
               "output_type": "execute_result"
            }
         ],
         "source": [
            "# convert the time column to datetime\n",
            "\n",
            "sea_level['Time'] = pd.to_datetime(sea_level['Time'])\n",
            "sea_level.head()"
         ]
      },
      {
         "cell_type": "code",
         "execution_count": 35,
         "metadata": {},
         "outputs": [
            {
               "data": {
                  "text/html": [
                     "<div>\n",
                     "<style scoped>\n",
                     "    .dataframe tbody tr th:only-of-type {\n",
                     "        vertical-align: middle;\n",
                     "    }\n",
                     "\n",
                     "    .dataframe tbody tr th {\n",
                     "        vertical-align: top;\n",
                     "    }\n",
                     "\n",
                     "    .dataframe thead th {\n",
                     "        text-align: right;\n",
                     "    }\n",
                     "</style>\n",
                     "<table border=\"1\" class=\"dataframe\">\n",
                     "  <thead>\n",
                     "    <tr style=\"text-align: right;\">\n",
                     "      <th></th>\n",
                     "      <th>Time</th>\n",
                     "      <th>GMSL</th>\n",
                     "    </tr>\n",
                     "  </thead>\n",
                     "  <tbody>\n",
                     "    <tr>\n",
                     "      <th>count</th>\n",
                     "      <td>266</td>\n",
                     "      <td>266.000000</td>\n",
                     "    </tr>\n",
                     "    <tr>\n",
                     "      <th>mean</th>\n",
                     "      <td>2004-01-29 21:44:39.699248128</td>\n",
                     "      <td>36.028571</td>\n",
                     "    </tr>\n",
                     "    <tr>\n",
                     "      <th>min</th>\n",
                     "      <td>1993-01-15 00:00:00</td>\n",
                     "      <td>-3.500000</td>\n",
                     "    </tr>\n",
                     "    <tr>\n",
                     "      <th>25%</th>\n",
                     "      <td>1998-07-22 18:00:00</td>\n",
                     "      <td>20.525000</td>\n",
                     "    </tr>\n",
                     "    <tr>\n",
                     "      <th>50%</th>\n",
                     "      <td>2004-01-30 12:00:00</td>\n",
                     "      <td>36.700000</td>\n",
                     "    </tr>\n",
                     "    <tr>\n",
                     "      <th>75%</th>\n",
                     "      <td>2009-08-07 06:00:00</td>\n",
                     "      <td>52.500000</td>\n",
                     "    </tr>\n",
                     "    <tr>\n",
                     "      <th>max</th>\n",
                     "      <td>2015-02-15 00:00:00</td>\n",
                     "      <td>79.500000</td>\n",
                     "    </tr>\n",
                     "    <tr>\n",
                     "      <th>std</th>\n",
                     "      <td>NaN</td>\n",
                     "      <td>20.889803</td>\n",
                     "    </tr>\n",
                     "  </tbody>\n",
                     "</table>\n",
                     "</div>"
                  ],
                  "text/plain": [
                     "                                Time        GMSL\n",
                     "count                            266  266.000000\n",
                     "mean   2004-01-29 21:44:39.699248128   36.028571\n",
                     "min              1993-01-15 00:00:00   -3.500000\n",
                     "25%              1998-07-22 18:00:00   20.525000\n",
                     "50%              2004-01-30 12:00:00   36.700000\n",
                     "75%              2009-08-07 06:00:00   52.500000\n",
                     "max              2015-02-15 00:00:00   79.500000\n",
                     "std                              NaN   20.889803"
                  ]
               },
               "execution_count": 35,
               "metadata": {},
               "output_type": "execute_result"
            }
         ],
         "source": [
            "sea_level.describe()"
         ]
      },
      {
         "cell_type": "markdown",
         "metadata": {},
         "source": [
            "### Grouping the data by Time (Year) and getting the mean"
         ]
      },
      {
         "cell_type": "code",
         "execution_count": 36,
         "metadata": {},
         "outputs": [
            {
               "data": {
                  "text/html": [
                     "<div>\n",
                     "<style scoped>\n",
                     "    .dataframe tbody tr th:only-of-type {\n",
                     "        vertical-align: middle;\n",
                     "    }\n",
                     "\n",
                     "    .dataframe tbody tr th {\n",
                     "        vertical-align: top;\n",
                     "    }\n",
                     "\n",
                     "    .dataframe thead th {\n",
                     "        text-align: right;\n",
                     "    }\n",
                     "</style>\n",
                     "<table border=\"1\" class=\"dataframe\">\n",
                     "  <thead>\n",
                     "    <tr style=\"text-align: right;\">\n",
                     "      <th></th>\n",
                     "      <th>Time</th>\n",
                     "      <th>GMSL</th>\n",
                     "    </tr>\n",
                     "    <tr>\n",
                     "      <th>Time</th>\n",
                     "      <th></th>\n",
                     "      <th></th>\n",
                     "    </tr>\n",
                     "  </thead>\n",
                     "  <tbody>\n",
                     "    <tr>\n",
                     "      <th>1993</th>\n",
                     "      <td>1993-06-30 12:00:00</td>\n",
                     "      <td>1.408333</td>\n",
                     "    </tr>\n",
                     "    <tr>\n",
                     "      <th>1994</th>\n",
                     "      <td>1994-06-30 12:00:00</td>\n",
                     "      <td>2.733333</td>\n",
                     "    </tr>\n",
                     "    <tr>\n",
                     "      <th>1995</th>\n",
                     "      <td>1995-06-30 12:00:00</td>\n",
                     "      <td>5.750000</td>\n",
                     "    </tr>\n",
                     "    <tr>\n",
                     "      <th>1996</th>\n",
                     "      <td>1996-06-30 08:00:00</td>\n",
                     "      <td>11.341667</td>\n",
                     "    </tr>\n",
                     "    <tr>\n",
                     "      <th>1997</th>\n",
                     "      <td>1997-06-30 12:00:00</td>\n",
                     "      <td>16.050000</td>\n",
                     "    </tr>\n",
                     "  </tbody>\n",
                     "</table>\n",
                     "</div>"
                  ],
                  "text/plain": [
                     "                    Time       GMSL\n",
                     "Time                               \n",
                     "1993 1993-06-30 12:00:00   1.408333\n",
                     "1994 1994-06-30 12:00:00   2.733333\n",
                     "1995 1995-06-30 12:00:00   5.750000\n",
                     "1996 1996-06-30 08:00:00  11.341667\n",
                     "1997 1997-06-30 12:00:00  16.050000"
                  ]
               },
               "execution_count": 36,
               "metadata": {},
               "output_type": "execute_result"
            }
         ],
         "source": [
            "# group by year and get the mean\n",
            "\n",
            "sea_level_grouped = sea_level.groupby(sea_level['Time'].dt.year).mean()\n",
            "sea_level_grouped.head()"
         ]
      },
      {
         "cell_type": "code",
         "execution_count": 37,
         "metadata": {},
         "outputs": [
            {
               "data": {
                  "text/html": [
                     "<div>\n",
                     "<style scoped>\n",
                     "    .dataframe tbody tr th:only-of-type {\n",
                     "        vertical-align: middle;\n",
                     "    }\n",
                     "\n",
                     "    .dataframe tbody tr th {\n",
                     "        vertical-align: top;\n",
                     "    }\n",
                     "\n",
                     "    .dataframe thead th {\n",
                     "        text-align: right;\n",
                     "    }\n",
                     "</style>\n",
                     "<table border=\"1\" class=\"dataframe\">\n",
                     "  <thead>\n",
                     "    <tr style=\"text-align: right;\">\n",
                     "      <th></th>\n",
                     "      <th>Time</th>\n",
                     "      <th>GMSL</th>\n",
                     "      <th>GMSL in cm</th>\n",
                     "    </tr>\n",
                     "    <tr>\n",
                     "      <th>Time</th>\n",
                     "      <th></th>\n",
                     "      <th></th>\n",
                     "      <th></th>\n",
                     "    </tr>\n",
                     "  </thead>\n",
                     "  <tbody>\n",
                     "    <tr>\n",
                     "      <th>1993</th>\n",
                     "      <td>1993-06-30 12:00:00</td>\n",
                     "      <td>1.408333</td>\n",
                     "      <td>0.140833</td>\n",
                     "    </tr>\n",
                     "    <tr>\n",
                     "      <th>1994</th>\n",
                     "      <td>1994-06-30 12:00:00</td>\n",
                     "      <td>2.733333</td>\n",
                     "      <td>0.273333</td>\n",
                     "    </tr>\n",
                     "    <tr>\n",
                     "      <th>1995</th>\n",
                     "      <td>1995-06-30 12:00:00</td>\n",
                     "      <td>5.750000</td>\n",
                     "      <td>0.575000</td>\n",
                     "    </tr>\n",
                     "    <tr>\n",
                     "      <th>1996</th>\n",
                     "      <td>1996-06-30 08:00:00</td>\n",
                     "      <td>11.341667</td>\n",
                     "      <td>1.134167</td>\n",
                     "    </tr>\n",
                     "    <tr>\n",
                     "      <th>1997</th>\n",
                     "      <td>1997-06-30 12:00:00</td>\n",
                     "      <td>16.050000</td>\n",
                     "      <td>1.605000</td>\n",
                     "    </tr>\n",
                     "  </tbody>\n",
                     "</table>\n",
                     "</div>"
                  ],
                  "text/plain": [
                     "                    Time       GMSL  GMSL in cm\n",
                     "Time                                           \n",
                     "1993 1993-06-30 12:00:00   1.408333    0.140833\n",
                     "1994 1994-06-30 12:00:00   2.733333    0.273333\n",
                     "1995 1995-06-30 12:00:00   5.750000    0.575000\n",
                     "1996 1996-06-30 08:00:00  11.341667    1.134167\n",
                     "1997 1997-06-30 12:00:00  16.050000    1.605000"
                  ]
               },
               "execution_count": 37,
               "metadata": {},
               "output_type": "execute_result"
            }
         ],
         "source": [
            "sea_level_grouped['GMSL in cm'] = sea_level_grouped['GMSL'].apply(lambda x: x/10)\n",
            "sea_level_grouped.head()"
         ]
      },
      {
         "cell_type": "markdown",
         "metadata": {},
         "source": [
            "### Plotting the Global Mean Sea Level  (GMSL)"
         ]
      },
      {
         "cell_type": "code",
         "execution_count": 38,
         "metadata": {},
         "outputs": [],
         "source": [
            "# plot the data\n",
            "\n",
            "plt.style.use('seaborn-v0_8')\n",
            "plt.figure(figsize=(10,6))\n",
            "plt.plot(sea_level_grouped['GMSL'], label='Sea Level Rise (mm)')\n",
            "plt.xlabel('Year')\n",
            "plt.ylabel('Sea Level Rise (mm)')\n",
            "plt.title('Global Mean Sea Level', fontsize=20)\n",
            "plt.legend()\n",
            "plt.show()\n"
         ]
      },
      {
         "cell_type": "code",
         "execution_count": 39,
         "metadata": {},
         "outputs": [],
         "source": [
            "# Plot the Arctic and Antarctic ice extent and the global mean sea level in one plot\n",
            "\n",
            "# plot the data\n",
            "plt.style.use('seaborn-v0_8')\n",
            "plt.figure(figsize=(10,6))\n",
            "plt.plot(s_seaice_grouped['Extent'], label='Antarctic Ics Extent')\n",
            "plt.plot(n_seaice_grouped['Extent'], label='Arctic Ics Extent')\n",
            "plt.plot(sea_level_grouped['GMSL'], label='Sea Level Rise (cm)')\n",
            "plt.xlabel('Year')\n",
            "plt.ylabel('Extent / Sea Level Rise (mm)')\n",
            "plt.title('Sea Ice Extent and Sea Level Rise', fontsize=20)\n",
            "plt.legend()\n",
            "plt.show()\n"
         ]
      },
      {
         "cell_type": "code",
         "execution_count": 40,
         "metadata": {},
         "outputs": [
            {
               "data": {
                  "image/png": "[encoded data removed]",
                  "text/plain": [
                     "<Figure size 1000x600 with 1 Axes>"
                  ]
               },
               "metadata": {},
               "output_type": "display_data"
            }
         ],
         "source": [
            "# Plot the Arctic and Antarctic ice extent and the global mean sea level in one plot\n",
            "\n",
            "# plot the data\n",
            "plt.style.use('seaborn-v0_8')\n",
            "plt.figure(figsize=(10,6))\n",
            "plt.plot(s_seaice_grouped['Extent'], label='Antarctic Ics Extent')\n",
            "plt.plot(n_seaice_grouped['Extent'], label='Arctic Ics Extent')\n",
            "plt.plot(sea_level_grouped['GMSL in cm'], label='Sea Level Rise (cm)')\n",
            "plt.xlabel('Year')\n",
            "plt.ylabel('Extent / Sea Level Rise (mm)')\n",
            "plt.title('Sea Ice Extent and Sea Level Rise', fontsize=20)\n",
            "plt.legend()\n",
            "plt.show()\n"
         ]
      },
      {
         "cell_type": "markdown",
         "metadata": {},
         "source": [
            "### EU"
         ]
      },
      {
         "cell_type": "code",
         "execution_count": 41,
         "metadata": {},
         "outputs": [],
         "source": [
            "# check the files in the Datasets directory\n",
            "path = pathlib.Path(\"Datasets\")\n",
            "files = [file.name for file in path.iterdir()]\n",
            "if \"Data-package.zip\" in files:\n",
            "    print(\"The data is available\")\n",
            "\n",
            "else:\n",
            "    # read the data\n",
            "    url = \"https://www.eea.europa.eu/data-and-maps/figures/observed-change-in-global-mean-3/data-package.zip/at_download/file\"\n",
            "    r = requests.get(url)\n",
            "    with open(\"Datasets/Data-package.zip\", \"wb\") as f:\n",
            "        f.write(r.content)\n",
            "\n",
            "    # unzip the file\n",
            "    with zipfile.ZipFile(\"Datasets/Data-package.zip\", 'r') as zip_ref:\n",
            "        zip_ref.extractall(\"Datasets/sea-level-rise/Data-package\")\n",
            "\n"
         ]
      },
      {
         "cell_type": "code",
         "execution_count": 42,
         "metadata": {},
         "outputs": [
            {
               "data": {
                  "text/html": [
                     "<div>\n",
                     "<style scoped>\n",
                     "    .dataframe tbody tr th:only-of-type {\n",
                     "        vertical-align: middle;\n",
                     "    }\n",
                     "\n",
                     "    .dataframe tbody tr th {\n",
                     "        vertical-align: top;\n",
                     "    }\n",
                     "\n",
                     "    .dataframe thead th {\n",
                     "        text-align: right;\n",
                     "    }\n",
                     "</style>\n",
                     "<table border=\"1\" class=\"dataframe\">\n",
                     "  <thead>\n",
                     "    <tr style=\"text-align: right;\">\n",
                     "      <th></th>\n",
                     "      <th>Year</th>\n",
                     "      <th>Global mean sea level (ensemble, Palmer et al., 2021)</th>\n",
                     "      <th>Global mean sea level (satellite altimeter, CMEMS)</th>\n",
                     "    </tr>\n",
                     "  </thead>\n",
                     "  <tbody>\n",
                     "    <tr>\n",
                     "      <th>0</th>\n",
                     "      <td>1900</td>\n",
                     "      <td>-148.467482</td>\n",
                     "      <td>NaN</td>\n",
                     "    </tr>\n",
                     "    <tr>\n",
                     "      <th>1</th>\n",
                     "      <td>1901</td>\n",
                     "      <td>-146.753115</td>\n",
                     "      <td>NaN</td>\n",
                     "    </tr>\n",
                     "    <tr>\n",
                     "      <th>2</th>\n",
                     "      <td>1902</td>\n",
                     "      <td>-148.321435</td>\n",
                     "      <td>NaN</td>\n",
                     "    </tr>\n",
                     "    <tr>\n",
                     "      <th>3</th>\n",
                     "      <td>1903</td>\n",
                     "      <td>-142.164056</td>\n",
                     "      <td>NaN</td>\n",
                     "    </tr>\n",
                     "    <tr>\n",
                     "      <th>4</th>\n",
                     "      <td>1904</td>\n",
                     "      <td>-144.403691</td>\n",
                     "      <td>NaN</td>\n",
                     "    </tr>\n",
                     "  </tbody>\n",
                     "</table>\n",
                     "</div>"
                  ],
                  "text/plain": [
                     "   Year  Global mean sea level (ensemble, Palmer et al., 2021)  \\\n",
                     "0  1900                                        -148.467482       \n",
                     "1  1901                                        -146.753115       \n",
                     "2  1902                                        -148.321435       \n",
                     "3  1903                                        -142.164056       \n",
                     "4  1904                                        -144.403691       \n",
                     "\n",
                     "   Global mean sea level (satellite altimeter, CMEMS)   \n",
                     "0                                                NaN    \n",
                     "1                                                NaN    \n",
                     "2                                                NaN    \n",
                     "3                                                NaN    \n",
                     "4                                                NaN    "
                  ]
               },
               "execution_count": 42,
               "metadata": {},
               "output_type": "execute_result"
            }
         ],
         "source": [
            "# read the sea level data from FIG1a_259008_CLIM012-v4-Data.xlsx file and get the data from the Original Data 3 tab\n",
            "\n",
            "sea_level_eea = pd.read_excel('Datasets/sea-level-rise/Data-package/FIG1a_259008_CLIM012-v4-Data.xlsx', sheet_name='Original Data 3', header=0)\n",
            "sea_level_eea.head()"
         ]
      },
      {
         "cell_type": "code",
         "execution_count": 43,
         "metadata": {},
         "outputs": [
            {
               "data": {
                  "text/html": [
                     "<div>\n",
                     "<style scoped>\n",
                     "    .dataframe tbody tr th:only-of-type {\n",
                     "        vertical-align: middle;\n",
                     "    }\n",
                     "\n",
                     "    .dataframe tbody tr th {\n",
                     "        vertical-align: top;\n",
                     "    }\n",
                     "\n",
                     "    .dataframe thead th {\n",
                     "        text-align: right;\n",
                     "    }\n",
                     "</style>\n",
                     "<table border=\"1\" class=\"dataframe\">\n",
                     "  <thead>\n",
                     "    <tr style=\"text-align: right;\">\n",
                     "      <th></th>\n",
                     "      <th>Year</th>\n",
                     "      <th>Global mean sea level (ensemble, Palmer et al., 2021)</th>\n",
                     "      <th>Global mean sea level (satellite altimeter, CMEMS)</th>\n",
                     "    </tr>\n",
                     "  </thead>\n",
                     "  <tbody>\n",
                     "    <tr>\n",
                     "      <th>118</th>\n",
                     "      <td>2018</td>\n",
                     "      <td>NaN</td>\n",
                     "      <td>5.690186e+01</td>\n",
                     "    </tr>\n",
                     "    <tr>\n",
                     "      <th>119</th>\n",
                     "      <td>2019</td>\n",
                     "      <td>NaN</td>\n",
                     "      <td>6.320915e+01</td>\n",
                     "    </tr>\n",
                     "    <tr>\n",
                     "      <th>120</th>\n",
                     "      <td>2020</td>\n",
                     "      <td>NaN</td>\n",
                     "      <td>6.628079e+01</td>\n",
                     "    </tr>\n",
                     "    <tr>\n",
                     "      <th>121</th>\n",
                     "      <td>2021</td>\n",
                     "      <td>NaN</td>\n",
                     "      <td>7.093695e+01</td>\n",
                     "    </tr>\n",
                     "    <tr>\n",
                     "      <th>122</th>\n",
                     "      <td>2022</td>\n",
                     "      <td>NaN</td>\n",
                     "      <td>7.355689e+01</td>\n",
                     "    </tr>\n",
                     "    <tr>\n",
                     "      <th>123</th>\n",
                     "      <td>NaN</td>\n",
                     "      <td>NaN</td>\n",
                     "      <td>NaN</td>\n",
                     "    </tr>\n",
                     "    <tr>\n",
                     "      <th>124</th>\n",
                     "      <td>Average \\n(1993-2010)</td>\n",
                     "      <td>0.000000</td>\n",
                     "      <td>3.947460e-15</td>\n",
                     "    </tr>\n",
                     "    <tr>\n",
                     "      <th>125</th>\n",
                     "      <td>Linear trend \\n(1993-2010)</td>\n",
                     "      <td>2.997947</td>\n",
                     "      <td>2.699543e+00</td>\n",
                     "    </tr>\n",
                     "    <tr>\n",
                     "      <th>126</th>\n",
                     "      <td>Linear trend \\n(whole time series)</td>\n",
                     "      <td>1.494230</td>\n",
                     "      <td>3.322905e+00</td>\n",
                     "    </tr>\n",
                     "    <tr>\n",
                     "      <th>127</th>\n",
                     "      <td>Change \\n(whole time series)</td>\n",
                     "      <td>NaN</td>\n",
                     "      <td>NaN</td>\n",
                     "    </tr>\n",
                     "  </tbody>\n",
                     "</table>\n",
                     "</div>"
                  ],
                  "text/plain": [
                     "                                   Year  \\\n",
                     "118                                2018   \n",
                     "119                                2019   \n",
                     "120                                2020   \n",
                     "121                                2021   \n",
                     "122                                2022   \n",
                     "123                                 NaN   \n",
                     "124               Average \\n(1993-2010)   \n",
                     "125          Linear trend \\n(1993-2010)   \n",
                     "126  Linear trend \\n(whole time series)   \n",
                     "127        Change \\n(whole time series)   \n",
                     "\n",
                     "     Global mean sea level (ensemble, Palmer et al., 2021)  \\\n",
                     "118                                                NaN       \n",
                     "119                                                NaN       \n",
                     "120                                                NaN       \n",
                     "121                                                NaN       \n",
                     "122                                                NaN       \n",
                     "123                                                NaN       \n",
                     "124                                           0.000000       \n",
                     "125                                           2.997947       \n",
                     "126                                           1.494230       \n",
                     "127                                                NaN       \n",
                     "\n",
                     "     Global mean sea level (satellite altimeter, CMEMS)   \n",
                     "118                                       5.690186e+01    \n",
                     "119                                       6.320915e+01    \n",
                     "120                                       6.628079e+01    \n",
                     "121                                       7.093695e+01    \n",
                     "122                                       7.355689e+01    \n",
                     "123                                                NaN    \n",
                     "124                                       3.947460e-15    \n",
                     "125                                       2.699543e+00    \n",
                     "126                                       3.322905e+00    \n",
                     "127                                                NaN    "
                  ]
               },
               "execution_count": 43,
               "metadata": {},
               "output_type": "execute_result"
            }
         ],
         "source": [
            "sea_level_eea.tail(10)"
         ]
      },
      {
         "cell_type": "code",
         "execution_count": 44,
         "metadata": {},
         "outputs": [
            {
               "data": {
                  "text/html": [
                     "<div>\n",
                     "<style scoped>\n",
                     "    .dataframe tbody tr th:only-of-type {\n",
                     "        vertical-align: middle;\n",
                     "    }\n",
                     "\n",
                     "    .dataframe tbody tr th {\n",
                     "        vertical-align: top;\n",
                     "    }\n",
                     "\n",
                     "    .dataframe thead th {\n",
                     "        text-align: right;\n",
                     "    }\n",
                     "</style>\n",
                     "<table border=\"1\" class=\"dataframe\">\n",
                     "  <thead>\n",
                     "    <tr style=\"text-align: right;\">\n",
                     "      <th></th>\n",
                     "      <th>Year</th>\n",
                     "      <th>Global mean sea level (ensemble, Palmer et al., 2021)</th>\n",
                     "      <th>Global mean sea level (satellite altimeter, CMEMS)</th>\n",
                     "    </tr>\n",
                     "  </thead>\n",
                     "  <tbody>\n",
                     "    <tr>\n",
                     "      <th>113</th>\n",
                     "      <td>2013</td>\n",
                     "      <td>NaN</td>\n",
                     "      <td>35.798526</td>\n",
                     "    </tr>\n",
                     "    <tr>\n",
                     "      <th>114</th>\n",
                     "      <td>2014</td>\n",
                     "      <td>NaN</td>\n",
                     "      <td>38.610678</td>\n",
                     "    </tr>\n",
                     "    <tr>\n",
                     "      <th>115</th>\n",
                     "      <td>2015</td>\n",
                     "      <td>NaN</td>\n",
                     "      <td>48.033565</td>\n",
                     "    </tr>\n",
                     "    <tr>\n",
                     "      <th>116</th>\n",
                     "      <td>2016</td>\n",
                     "      <td>NaN</td>\n",
                     "      <td>51.807641</td>\n",
                     "    </tr>\n",
                     "    <tr>\n",
                     "      <th>117</th>\n",
                     "      <td>2017</td>\n",
                     "      <td>NaN</td>\n",
                     "      <td>53.106594</td>\n",
                     "    </tr>\n",
                     "    <tr>\n",
                     "      <th>118</th>\n",
                     "      <td>2018</td>\n",
                     "      <td>NaN</td>\n",
                     "      <td>56.901858</td>\n",
                     "    </tr>\n",
                     "    <tr>\n",
                     "      <th>119</th>\n",
                     "      <td>2019</td>\n",
                     "      <td>NaN</td>\n",
                     "      <td>63.209152</td>\n",
                     "    </tr>\n",
                     "    <tr>\n",
                     "      <th>120</th>\n",
                     "      <td>2020</td>\n",
                     "      <td>NaN</td>\n",
                     "      <td>66.280787</td>\n",
                     "    </tr>\n",
                     "    <tr>\n",
                     "      <th>121</th>\n",
                     "      <td>2021</td>\n",
                     "      <td>NaN</td>\n",
                     "      <td>70.936955</td>\n",
                     "    </tr>\n",
                     "    <tr>\n",
                     "      <th>122</th>\n",
                     "      <td>2022</td>\n",
                     "      <td>NaN</td>\n",
                     "      <td>73.556886</td>\n",
                     "    </tr>\n",
                     "  </tbody>\n",
                     "</table>\n",
                     "</div>"
                  ],
                  "text/plain": [
                     "     Year  Global mean sea level (ensemble, Palmer et al., 2021)  \\\n",
                     "113  2013                                                NaN       \n",
                     "114  2014                                                NaN       \n",
                     "115  2015                                                NaN       \n",
                     "116  2016                                                NaN       \n",
                     "117  2017                                                NaN       \n",
                     "118  2018                                                NaN       \n",
                     "119  2019                                                NaN       \n",
                     "120  2020                                                NaN       \n",
                     "121  2021                                                NaN       \n",
                     "122  2022                                                NaN       \n",
                     "\n",
                     "     Global mean sea level (satellite altimeter, CMEMS)   \n",
                     "113                                          35.798526    \n",
                     "114                                          38.610678    \n",
                     "115                                          48.033565    \n",
                     "116                                          51.807641    \n",
                     "117                                          53.106594    \n",
                     "118                                          56.901858    \n",
                     "119                                          63.209152    \n",
                     "120                                          66.280787    \n",
                     "121                                          70.936955    \n",
                     "122                                          73.556886    "
                  ]
               },
               "execution_count": 44,
               "metadata": {},
               "output_type": "execute_result"
            }
         ],
         "source": [
            "# remove last 5 rows\n",
            "\n",
            "sea_level_eea = sea_level_eea.iloc[:-5]\n",
            "sea_level_eea.tail(10)"
         ]
      },
      {
         "cell_type": "code",
         "execution_count": 45,
         "metadata": {},
         "outputs": [
            {
               "data": {
                  "text/plain": [
                     "Index(['Year', 'Global mean sea level (ensemble, Palmer et al., 2021)',\n",
                     "       'Global mean sea level (satellite altimeter, CMEMS) '],\n",
                     "      dtype='object')"
                  ]
               },
               "execution_count": 45,
               "metadata": {},
               "output_type": "execute_result"
            }
         ],
         "source": [
            "sea_level_eea.columns"
         ]
      },
      {
         "cell_type": "code",
         "execution_count": 46,
         "metadata": {},
         "outputs": [
            {
               "data": {
                  "image/png": "[encoded data removed]",
                  "text/plain": [
                     "<Figure size 1000x600 with 1 Axes>"
                  ]
               },
               "metadata": {},
               "output_type": "display_data"
            }
         ],
         "source": [
            "# plot the data\n",
            "\n",
            "plt.style.use('seaborn-v0_8')\n",
            "plt.figure(figsize=(10,6))\n",
            "plt.plot(sea_level_eea['Year'], sea_level_eea['Global mean sea level (ensemble, Palmer et al., 2021)'], label='Sea Level Rise (mm)')\n",
            "plt.plot(sea_level_eea['Year'], sea_level_eea['Global mean sea level (satellite altimeter, CMEMS) '], label='Sea Level Rise (mm)', color='red')\n",
            "plt.xlabel('Year')\n",
            "plt.ylabel('Sea Level Rise (mm)')\n",
            "plt.title('Global Mean Sea Level', fontsize=20)\n",
            "plt.legend()\n",
            "plt.show()"
         ]
      },
      {
         "cell_type": "code",
         "execution_count": 47,
         "metadata": {},
         "outputs": [
            {
               "data": {
                  "image/png": "[encoded data removed]",
                  "text/plain": [
                     "<Figure size 1000x600 with 1 Axes>"
                  ]
               },
               "metadata": {},
               "output_type": "display_data"
            }
         ],
         "source": [
            "# plot Us sea level rise and EU sea level rise in one plot\n",
            "\n",
            "# plot the data\n",
            "plt.style.use('seaborn-v0_8')\n",
            "plt.figure(figsize=(10,6))\n",
            "plt.plot(sea_level_eea['Year'], sea_level_eea['Global mean sea level (ensemble, Palmer et al., 2021)'], label='Sea Level Rise EU (mm)')\n",
            "plt.plot(sea_level_eea['Year'], sea_level_eea['Global mean sea level (satellite altimeter, CMEMS) '], label='Sea Level Rise (mm)', color='red')\n",
            "plt.plot(sea_level_grouped.index, sea_level_grouped['GMSL'], label='Sea Level Rise US (mm)', color='green')\n",
            "plt.xlabel('Year')\n",
            "plt.ylabel('Sea Level Rise (mm)')\n",
            "plt.title('Global Mean Sea Level', fontsize=20)\n",
            "plt.legend()\n",
            "plt.show()"
         ]
      },
      {
         "cell_type": "code",
         "execution_count": 48,
         "metadata": {},
         "outputs": [
            {
               "data": {
                  "image/png": "[encoded data removed]",
                  "text/plain": [
                     "<Figure size 1000x800 with 2 Axes>"
                  ]
               },
               "metadata": {},
               "output_type": "display_data"
            }
         ],
         "source": [
            "# Create figure and axes\n",
            "fig, ax1 = plt.subplots(figsize=(10, 8))\n",
            "\n",
            "# Plot y1 on the left y-axis\n",
            "#ax1.plot(x, y1, color='blue', label='y1 = 100 + x^2')\n",
            "ax1.plot(s_seaice_grouped['Extent'], label='Antarctic Ice Extent')\n",
            "ax1.plot(n_seaice_grouped['Extent'], label='Arctic Ice Extent')\n",
            "ax1.set_xlabel('Year')\n",
            "ax1.set_ylabel('Ice Extent', color='blue')\n",
            "ax1.tick_params(axis='y', labelcolor='blue')\n",
            "\n",
            "# Create a second y-axis sharing the same x-axis\n",
            "ax2 = ax1.twinx()\n",
            "\n",
            "# Plot y2 on the right y-axis\n",
            "#ax2.plot(x, y2, color='red', label='y2 = 100 - x')\n",
            "ax2.plot(sea_level_grouped['GMSL in cm'], label='Sea Level Rise (cm)', color='red')\n",
            "ax2.set_ylabel('Sea level', color='red')\n",
            "ax2.tick_params(axis='y', labelcolor='red')\n",
            "\n",
            "# Add legend\n",
            "lines, labels = ax1.get_legend_handles_labels()\n",
            "lines2, labels2 = ax2.get_legend_handles_labels()\n",
            "ax2.legend(lines + lines2, labels + labels2, loc='best')\n",
            "\n",
            "# Add title\n",
            "plt.title('Plot of Ice Extent and Sea Level')\n",
            "\n",
            "# Show the plot\n",
            "plt.grid(True)\n",
            "plt.show()"
         ]
      }
   ],
   "metadata": {
      "kernelspec": {
         "display_name": "Python 3",
         "language": "python",
         "name": "python3"
      },
      "language_info": {
         "codemirror_mode": {
            "name": "ipython",
            "version": 3
         },
         "file_extension": ".py",
         "mimetype": "text/x-python",
         "name": "python",
         "nbconvert_exporter": "python",
         "pygments_lexer": "ipython3",
         "version": "3.12.0"
      }
   },
   "nbformat": 4,
   "nbformat_minor": 2
}
